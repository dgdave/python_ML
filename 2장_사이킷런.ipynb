{
 "cells": [
  {
   "cell_type": "markdown",
   "id": "4e3774e4",
   "metadata": {},
   "source": [
    "## 2.사이킷런으로 시작하는 머신러닝"
   ]
  },
  {
   "cell_type": "markdown",
   "id": "d1d8feee",
   "metadata": {},
   "source": [
    "### 01 sckit-learn 소개와 특징\n",
    "\n",
    "쉽고 가장 파이썬스러운 API제공\n",
    "실전검증된 머신러닝을위한 다양한 알고리즘제공"
   ]
  },
  {
   "cell_type": "code",
   "execution_count": 2,
   "id": "22970cb7",
   "metadata": {},
   "outputs": [
    {
     "name": "stdout",
     "output_type": "stream",
     "text": [
      "0.24.1\n"
     ]
    }
   ],
   "source": [
    "import sklearn\n",
    "print(sklearn.__version__)"
   ]
  },
  {
   "cell_type": "markdown",
   "id": "30f3d186",
   "metadata": {},
   "source": [
    "### 02 붓꽃 품종 에측하기 (분류)"
   ]
  },
  {
   "cell_type": "markdown",
   "id": "8e424e26",
   "metadata": {},
   "source": [
    "Sepal length(꽃잎길이), Sepal width(꽃잎 너비), Petal length(꽃받침길이), Petal width(꽃받침 너비) 기반 꽃 품종 예측"
   ]
  },
  {
   "cell_type": "code",
   "execution_count": null,
   "id": "df29943f",
   "metadata": {},
   "outputs": [],
   "source": []
  }
 ],
 "metadata": {
  "kernelspec": {
   "display_name": "Python 3",
   "language": "python",
   "name": "python3"
  },
  "language_info": {
   "codemirror_mode": {
    "name": "ipython",
    "version": 3
   },
   "file_extension": ".py",
   "mimetype": "text/x-python",
   "name": "python",
   "nbconvert_exporter": "python",
   "pygments_lexer": "ipython3",
   "version": "3.8.8"
  }
 },
 "nbformat": 4,
 "nbformat_minor": 5
}
