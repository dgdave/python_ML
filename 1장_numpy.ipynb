{
 "cells": [
  {
   "cell_type": "code",
   "execution_count": 1,
   "id": "9caa2aa1",
   "metadata": {},
   "outputs": [],
   "source": [
    "import numpy\n",
    "import pandas\n",
    "import matplotlib.pyplot\n",
    "import seaborn\n",
    "from sklearn.model_selection import train_test_split"
   ]
  },
  {
   "cell_type": "code",
   "execution_count": 2,
   "id": "8b0d93dd",
   "metadata": {},
   "outputs": [],
   "source": [
    "import numpy as np"
   ]
  },
  {
   "cell_type": "code",
   "execution_count": 18,
   "id": "38e12a62",
   "metadata": {},
   "outputs": [
    {
     "name": "stdout",
     "output_type": "stream",
     "text": [
      "array1 type: <class 'numpy.ndarray'>\n",
      "array1 array형태 : (3,)\n"
     ]
    }
   ],
   "source": [
    "array1 = np.array([1,2,3])\n",
    "print('array1 type:',type(array1))\n",
    "print('array1 array형태 :', array1.shape)"
   ]
  },
  {
   "cell_type": "code",
   "execution_count": 5,
   "id": "2543b308",
   "metadata": {},
   "outputs": [
    {
     "name": "stdout",
     "output_type": "stream",
     "text": [
      "array2 type: <class 'numpy.ndarray'>\n",
      "array2 array 형태: (2, 3)\n"
     ]
    }
   ],
   "source": [
    "array2 = np.array([[1,2,3],[2,3,4]])\n",
    "print('array2 type:', type(array2))\n",
    "print('array2 array 형태:',array2.shape)"
   ]
  },
  {
   "cell_type": "code",
   "execution_count": 6,
   "id": "7eae1d31",
   "metadata": {},
   "outputs": [
    {
     "name": "stdout",
     "output_type": "stream",
     "text": [
      "arary3 type: <class 'numpy.ndarray'>\n",
      "array3 array형태: (1, 3)\n"
     ]
    }
   ],
   "source": [
    "array3 = np.array([[1,2,3]])\n",
    "print('arary3 type:',type(array3))\n",
    "print('array3 array형태:', array3.shape)"
   ]
  },
  {
   "cell_type": "code",
   "execution_count": 29,
   "id": "d661d31f",
   "metadata": {
    "scrolled": true
   },
   "outputs": [
    {
     "name": "stdout",
     "output_type": "stream",
     "text": [
      "array1:1차원, array2:2차원, array3: 2차원\n"
     ]
    }
   ],
   "source": [
    "print('array1:{:0}차원, array2:{:1}차원, array3:{:2}차원'.format(array1.ndim, array2.ndim, array3.ndim))\n"
   ]
  },
  {
   "cell_type": "code",
   "execution_count": 32,
   "id": "9241abbb",
   "metadata": {},
   "outputs": [
    {
     "name": "stdout",
     "output_type": "stream",
     "text": [
      "<class 'list'>\n",
      "<class 'numpy.ndarray'>\n",
      "[1 2 3] int32\n"
     ]
    }
   ],
   "source": [
    "list1 = [1,2,3]\n",
    "print(type(list1))\n",
    "array1 = np.array(list1)\n",
    "print(type(array1))\n",
    "print(array1,array1.dtype)"
   ]
  },
  {
   "cell_type": "code",
   "execution_count": 34,
   "id": "b419bc4b",
   "metadata": {},
   "outputs": [
    {
     "name": "stdout",
     "output_type": "stream",
     "text": [
      "['1' '2' 'test'] <U11\n",
      "[1. 2. 3.] float64\n"
     ]
    }
   ],
   "source": [
    "list2 = [1,2,'test']\n",
    "array2 = np.array(list2)\n",
    "print(array2, array2.dtype)\n",
    "\n",
    "list3 = [1,2,3.0]\n",
    "array3 = np.array(list3)\n",
    "print(array3, array3.dtype)"
   ]
  },
  {
   "cell_type": "code",
   "execution_count": 43,
   "id": "aefd4f93",
   "metadata": {},
   "outputs": [
    {
     "name": "stdout",
     "output_type": "stream",
     "text": [
      "[1. 2. 3.] float64\n",
      "[1 2 3] int32\n",
      "[1 2 3] int32\n"
     ]
    }
   ],
   "source": [
    "array_int = np.array([1,2,3])\n",
    "array_float=array_int.astype('float64')\n",
    "print(array_float, array_float.dtype)\n",
    "\n",
    "array_int1 = array_float.astype('int32')\n",
    "print(array_int1, array_int1.dtype)\n",
    "\n",
    "array_float1 = np.array([1.1, 2.1, 3.1])\n",
    "array_int2 = array_float1.astype('int32')\n",
    "print(array_int2, array_int2.dtype)"
   ]
  },
  {
   "cell_type": "code",
   "execution_count": 48,
   "id": "7b1d6cfc",
   "metadata": {},
   "outputs": [
    {
     "name": "stdout",
     "output_type": "stream",
     "text": [
      "[0 1 2 3 4 5 6 7 8 9]\n",
      "int32 (10,)\n"
     ]
    }
   ],
   "source": [
    "sequence_array = np.arange(10)\n",
    "print(sequence_array)\n",
    "print(sequence_array.dtype, sequence_array.shape)"
   ]
  },
  {
   "cell_type": "code",
   "execution_count": 50,
   "id": "621cf465",
   "metadata": {},
   "outputs": [
    {
     "name": "stdout",
     "output_type": "stream",
     "text": [
      "[[0 0]\n",
      " [0 0]\n",
      " [0 0]]\n",
      "int32 (3, 2)\n",
      "[[1. 1.]\n",
      " [1. 1.]\n",
      " [1. 1.]]\n",
      "float64 (3, 2)\n"
     ]
    }
   ],
   "source": [
    "zero_array = np.zeros((3,2),dtype='int32')\n",
    "print(zero_array)\n",
    "print(zero_array.dtype, zero_array.shape)\n",
    "\n",
    "one_array = np.ones((3,2))\n",
    "print(one_array)\n",
    "print(one_array.dtype, one_array.shape)"
   ]
  },
  {
   "cell_type": "code",
   "execution_count": 51,
   "id": "7332b377",
   "metadata": {},
   "outputs": [
    {
     "name": "stdout",
     "output_type": "stream",
     "text": [
      "array1:\n",
      " [0 1 2 3 4 5 6 7 8 9]\n",
      "array2:\n",
      " [[0 1 2 3 4]\n",
      " [5 6 7 8 9]]\n",
      "array3:\n",
      " [[0 1]\n",
      " [2 3]\n",
      " [4 5]\n",
      " [6 7]\n",
      " [8 9]]\n"
     ]
    }
   ],
   "source": [
    "array1 = np.arange(10)\n",
    "print('array1:\\n',array1)\n",
    "\n",
    "array2 = array1.reshape(2,5)\n",
    "print('array2:\\n', array2)\n",
    "\n",
    "array3 = array1.reshape(5,2)\n",
    "print('array3:\\n', array3)"
   ]
  },
  {
   "cell_type": "code",
   "execution_count": 53,
   "id": "5d488cf4",
   "metadata": {},
   "outputs": [
    {
     "ename": "ValueError",
     "evalue": "cannot reshape array of size 10 into shape (4,3)",
     "output_type": "error",
     "traceback": [
      "\u001b[1;31m---------------------------------------------------------------------------\u001b[0m",
      "\u001b[1;31mValueError\u001b[0m                                Traceback (most recent call last)",
      "\u001b[1;32m<ipython-input-53-a40469ec5825>\u001b[0m in \u001b[0;36m<module>\u001b[1;34m\u001b[0m\n\u001b[1;32m----> 1\u001b[1;33m \u001b[0marray1\u001b[0m\u001b[1;33m.\u001b[0m\u001b[0mreshape\u001b[0m\u001b[1;33m(\u001b[0m\u001b[1;36m4\u001b[0m\u001b[1;33m,\u001b[0m\u001b[1;36m3\u001b[0m\u001b[1;33m)\u001b[0m\u001b[1;33m\u001b[0m\u001b[1;33m\u001b[0m\u001b[0m\n\u001b[0m",
      "\u001b[1;31mValueError\u001b[0m: cannot reshape array of size 10 into shape (4,3)"
     ]
    }
   ],
   "source": [
    "array1.reshape(4,3)"
   ]
  },
  {
   "cell_type": "code",
   "execution_count": 55,
   "id": "91dda055",
   "metadata": {},
   "outputs": [
    {
     "name": "stdout",
     "output_type": "stream",
     "text": [
      "[0 1 2 3 4 5 6 7 8 9]\n",
      "array2 shape: (2, 5)\n",
      "array3 shape: (5, 2)\n"
     ]
    }
   ],
   "source": [
    "array1 = np.arange(10)\n",
    "print(array1)\n",
    "arra2 = array1.reshape(-1,5)\n",
    "print('array2 shape:', array2.shape)\n",
    "array3 = array1.reshape(5,-1)\n",
    "print('array3 shape:', array3.shape)\n"
   ]
  },
  {
   "cell_type": "code",
   "execution_count": 65,
   "id": "ff807a57",
   "metadata": {},
   "outputs": [
    {
     "ename": "ValueError",
     "evalue": "cannot reshape array of size 10 into shape (4)",
     "output_type": "error",
     "traceback": [
      "\u001b[1;31m---------------------------------------------------------------------------\u001b[0m",
      "\u001b[1;31mValueError\u001b[0m                                Traceback (most recent call last)",
      "\u001b[1;32m<ipython-input-65-991ba1905986>\u001b[0m in \u001b[0;36m<module>\u001b[1;34m\u001b[0m\n\u001b[0;32m      1\u001b[0m \u001b[0marray1\u001b[0m \u001b[1;33m=\u001b[0m \u001b[0mnp\u001b[0m\u001b[1;33m.\u001b[0m\u001b[0marange\u001b[0m\u001b[1;33m(\u001b[0m\u001b[1;36m10\u001b[0m\u001b[1;33m)\u001b[0m\u001b[1;33m\u001b[0m\u001b[1;33m\u001b[0m\u001b[0m\n\u001b[1;32m----> 2\u001b[1;33m \u001b[0marra2\u001b[0m \u001b[1;33m=\u001b[0m \u001b[0marray1\u001b[0m\u001b[1;33m.\u001b[0m\u001b[0mreshape\u001b[0m\u001b[1;33m(\u001b[0m\u001b[1;33m-\u001b[0m\u001b[1;36m1\u001b[0m\u001b[1;33m,\u001b[0m\u001b[1;36m4\u001b[0m\u001b[1;33m)\u001b[0m\u001b[1;33m\u001b[0m\u001b[1;33m\u001b[0m\u001b[0m\n\u001b[0m\u001b[0;32m      3\u001b[0m \u001b[0mprint\u001b[0m\u001b[1;33m(\u001b[0m\u001b[1;34m'array2 shape:'\u001b[0m\u001b[1;33m,\u001b[0m \u001b[0marray2\u001b[0m\u001b[1;33m.\u001b[0m\u001b[0mshape\u001b[0m\u001b[1;33m)\u001b[0m\u001b[1;33m\u001b[0m\u001b[1;33m\u001b[0m\u001b[0m\n",
      "\u001b[1;31mValueError\u001b[0m: cannot reshape array of size 10 into shape (4)"
     ]
    }
   ],
   "source": [
    "array1 = np.arange(10)\n",
    "arra2 = array1.reshape(-1,4)\n",
    "print('array2 shape:', array2.shape)"
   ]
  },
  {
   "cell_type": "code",
   "execution_count": 73,
   "id": "3d5a791c",
   "metadata": {},
   "outputs": [
    {
     "name": "stdout",
     "output_type": "stream",
     "text": [
      "array3d:\n",
      " [[[0, 1], [2, 3]], [[4, 5], [6, 7]]]\n"
     ]
    }
   ],
   "source": [
    "array1 = np.arange(8)\n",
    "array3d = array1.reshape((2,2,2))\n",
    "print('array3d:\\n',array3d.tolist())"
   ]
  },
  {
   "cell_type": "code",
   "execution_count": 84,
   "id": "c855f71d",
   "metadata": {},
   "outputs": [
    {
     "name": "stdout",
     "output_type": "stream",
     "text": [
      "[[0]\n",
      " [1]\n",
      " [2]\n",
      " [3]\n",
      " [4]\n",
      " [5]\n",
      " [6]\n",
      " [7]]\n"
     ]
    }
   ],
   "source": [
    "test = array1.reshape(-1,1)\n",
    "print(test)"
   ]
  },
  {
   "cell_type": "code",
   "execution_count": 89,
   "id": "4df2f1c9",
   "metadata": {},
   "outputs": [
    {
     "name": "stdout",
     "output_type": "stream",
     "text": [
      "[[[0 1]\n",
      "  [2 3]]\n",
      "\n",
      " [[4 5]\n",
      "  [6 7]]]\n",
      "array5:\n",
      " [[0], [1], [2], [3], [4], [5], [6], [7]]\n",
      "array5 shape: (8, 1)\n",
      "[0 1 2 3 4 5 6 7]\n",
      "array6:\n",
      " [[0], [1], [2], [3], [4], [5], [6], [7]]\n",
      "array6 shape: (8, 1)\n"
     ]
    }
   ],
   "source": [
    "#3차원 ndarray를 2차원 ndarray으로변환\n",
    "print(array3d)\n",
    "array5 = array3d.reshape(-1,1)\n",
    "print('array5:\\n',array5.tolist())\n",
    "print('array5 shape:', array5.shape)\n",
    "\n",
    "#1차원 ndarray를 2차원 ndarray로 변환\n",
    "print(array1)\n",
    "array6 = array1.reshape(-1,1)\n",
    "print('array6:\\n',array6.tolist())\n",
    "print('array6 shape:', array6.shape)"
   ]
  },
  {
   "cell_type": "code",
   "execution_count": 4,
   "id": "423debb8",
   "metadata": {},
   "outputs": [
    {
     "name": "stdout",
     "output_type": "stream",
     "text": [
      "array1: [1 2 3 4 5 6 7 8 9]\n",
      "value: 3\n",
      "<class 'numpy.int32'>\n"
     ]
    }
   ],
   "source": [
    "#1부터 9까지의 1차원 ndarray생성\n",
    "array1 = np.arange(start=1, stop=10)\n",
    "print('array1:', array1)\n",
    "\n",
    "#index는 0부터시작\n",
    "value = array1[2]\n",
    "print('value:',value)\n",
    "print(type(value))\n"
   ]
  },
  {
   "cell_type": "code",
   "execution_count": 5,
   "id": "db1e2485",
   "metadata": {},
   "outputs": [
    {
     "name": "stdout",
     "output_type": "stream",
     "text": [
      "맨뒤의값: 9 맨 뒤에서 두번째값: 8\n"
     ]
    }
   ],
   "source": [
    "print('맨뒤의값:',array1[-1],'맨 뒤에서 두번째값:',array1[-2])"
   ]
  },
  {
   "cell_type": "code",
   "execution_count": 8,
   "id": "1fb80abb",
   "metadata": {},
   "outputs": [
    {
     "name": "stdout",
     "output_type": "stream",
     "text": [
      "array1: [9 2 3 4 5 6 7 8 0]\n"
     ]
    }
   ],
   "source": [
    "array1[0] = 9\n",
    "array1[8] = 0\n",
    "print('array1:',array1)"
   ]
  },
  {
   "cell_type": "code",
   "execution_count": 3,
   "id": "4b12c538",
   "metadata": {},
   "outputs": [
    {
     "name": "stdout",
     "output_type": "stream",
     "text": [
      "[[1 2 3]\n",
      " [4 5 6]\n",
      " [7 8 9]]\n"
     ]
    }
   ],
   "source": [
    "array1d = np.arange(start=1,stop=10)\n",
    "array2d = array1d.reshape(3,3)\n",
    "print(array2d)"
   ]
  },
  {
   "cell_type": "code",
   "execution_count": 6,
   "id": "088d0b6b",
   "metadata": {},
   "outputs": [
    {
     "name": "stdout",
     "output_type": "stream",
     "text": [
      "(row=0,col=0) index 가리키는 값: 1\n",
      "(row=0,col=1) index 가리키는 값: 2\n",
      "(axis0=1,axis=0) index 가리키는 값: 4\n",
      "(row=2,col=2) index 가리키는 값: 9\n"
     ]
    }
   ],
   "source": [
    "print('(row=0,col=0) index 가리키는 값:', array2d[0,0])\n",
    "print('(row=0,col=1) index 가리키는 값:', array2d[0,1])\n",
    "print('(axis0=1,axis=0) index 가리키는 값:', array2d[1,0])\n",
    "print('(row=2,col=2) index 가리키는 값:', array2d[2,2])\n"
   ]
  },
  {
   "cell_type": "code",
   "execution_count": 8,
   "id": "7288631d",
   "metadata": {},
   "outputs": [
    {
     "name": "stdout",
     "output_type": "stream",
     "text": [
      "[1 2 3]\n",
      "<class 'numpy.ndarray'>\n"
     ]
    }
   ],
   "source": [
    "array1 = np.arange(start=1, stop=10)\n",
    "array3 = array1[0:3]\n",
    "print(array3)\n",
    "print(type(array3))\n"
   ]
  },
  {
   "cell_type": "code",
   "execution_count": 9,
   "id": "cf7787a6",
   "metadata": {},
   "outputs": [
    {
     "name": "stdout",
     "output_type": "stream",
     "text": [
      "[1 2 3 4 5 6 7 8 9]\n"
     ]
    }
   ],
   "source": [
    "print(array1)"
   ]
  },
  {
   "cell_type": "code",
   "execution_count": 11,
   "id": "b6aadedd",
   "metadata": {},
   "outputs": [
    {
     "name": "stdout",
     "output_type": "stream",
     "text": [
      "[1 2 3]\n",
      "[4 5 6 7 8 9]\n",
      "[1 2 3 4 5 6 7 8 9]\n"
     ]
    }
   ],
   "source": [
    "#슬라이싱기호 : 생략\n",
    "array1 = np.arange(start=1, stop=10)\n",
    "array4 = array1[:3]\n",
    "print(array4)\n",
    "\n",
    "array5 = array1[3:]\n",
    "print(array5)\n",
    "\n",
    "array6 = array1[:]\n",
    "print(array6)"
   ]
  },
  {
   "cell_type": "code",
   "execution_count": 19,
   "id": "dfddb3d7",
   "metadata": {},
   "outputs": [
    {
     "name": "stdout",
     "output_type": "stream",
     "text": [
      "array2d:\n",
      " [[1 2 3]\n",
      " [4 5 6]\n",
      " [7 8 9]]\n",
      "array2d[0:2,0:2]\n",
      " [[1 2]\n",
      " [4 5]]\n",
      "array2d[1:3,0:3]\n",
      " [[4 5 6]\n",
      " [7 8 9]]\n",
      "array2d[1:3,:]\n",
      " [[4 5 6]\n",
      " [7 8 9]]\n",
      "array2d[:]\n",
      " [[1 2 3]\n",
      " [4 5 6]\n",
      " [7 8 9]]\n",
      "array2d[0:2,0:2]\n",
      " [[2 3]\n",
      " [5 6]]\n",
      "array2d[0:2,0:2]\n",
      " [1 4]\n"
     ]
    }
   ],
   "source": [
    "array1d = np.arange(start=1, stop=10)\n",
    "array2d = array1d.reshape(3,3)\n",
    "print('array2d:\\n', array2d)\n",
    "\n",
    "print('array2d[0:2,0:2]\\n',array2d[0:2,0:2])\n",
    "print('array2d[1:3,0:3]\\n',array2d[1:3,0:3])\n",
    "print('array2d[1:3,:]\\n',array2d[1:3,:])\n",
    "\n",
    "print('array2d[:]\\n',array2d[:,:])\n",
    "print('array2d[0:2,0:2]\\n',array2d[:2,1:])\n",
    "print('array2d[0:2,0:2]\\n',array2d[:2,0])\n"
   ]
  },
  {
   "cell_type": "code",
   "execution_count": 20,
   "id": "7ecbb16f",
   "metadata": {},
   "outputs": [
    {
     "name": "stdout",
     "output_type": "stream",
     "text": [
      "[1 2 3]\n",
      "[4 5 6]\n",
      "array2d[0] shape: (3,) array2d[1] shape: (3,)\n"
     ]
    }
   ],
   "source": [
    "print(array2d[0])\n",
    "print(array2d[1])\n",
    "print('array2d[0] shape:', array2d[0].shape, 'array2d[1] shape:', array2d[1].shape)"
   ]
  },
  {
   "cell_type": "code",
   "execution_count": 23,
   "id": "dcd0bbcc",
   "metadata": {},
   "outputs": [
    {
     "name": "stdout",
     "output_type": "stream",
     "text": [
      "array2d[[0,1],2]=> [3, 6]\n",
      "array2d[[0,1],0:2]=> [[1, 2], [4, 5]]\n",
      "array2d[[0,1]]=> [[1, 2, 3], [4, 5, 6]]\n"
     ]
    }
   ],
   "source": [
    "array1d = np.arange(start=1, stop=10)\n",
    "array2d = array1d.reshape(3,3)\n",
    "\n",
    "array3 = array2d[[0,1],2]\n",
    "print('array2d[[0,1],2]=>', array3.tolist())\n",
    "\n",
    "array4 = array2d[[0,1],0:2]\n",
    "print('array2d[[0,1],0:2]=>', array4.tolist())\n",
    "\n",
    "array5 = array2d[[0,1]]\n",
    "print('array2d[[0,1]]=>', array5.tolist())"
   ]
  },
  {
   "cell_type": "code",
   "execution_count": 24,
   "id": "6c8d0f86",
   "metadata": {},
   "outputs": [
    {
     "name": "stdout",
     "output_type": "stream",
     "text": [
      "array1d>5 불린 인덱싱 결과 값: [6 7 8 9]\n"
     ]
    }
   ],
   "source": [
    "#불린 인덱싱\n",
    "array1d = np.arange(start=1, stop=10)\n",
    "# []안에 array1d > 5 Boolean indexing을 적용\n",
    "array3 = array1d[array1d > 5]\n",
    "print('array1d>5 불린 인덱싱 결과 값:', array3)"
   ]
  },
  {
   "cell_type": "code",
   "execution_count": 25,
   "id": "50e0f20b",
   "metadata": {},
   "outputs": [
    {
     "data": {
      "text/plain": [
       "array([False, False, False, False, False,  True,  True,  True,  True])"
      ]
     },
     "execution_count": 25,
     "metadata": {},
     "output_type": "execute_result"
    }
   ],
   "source": [
    "array1d >5"
   ]
  },
  {
   "cell_type": "code",
   "execution_count": 26,
   "id": "f30c7bbd",
   "metadata": {},
   "outputs": [
    {
     "data": {
      "text/plain": [
       "array([1, 2, 3, 4, 5, 6, 7, 8, 9])"
      ]
     },
     "execution_count": 26,
     "metadata": {},
     "output_type": "execute_result"
    }
   ],
   "source": [
    "array1d"
   ]
  },
  {
   "cell_type": "code",
   "execution_count": 29,
   "id": "e3a712b9",
   "metadata": {},
   "outputs": [
    {
     "name": "stdout",
     "output_type": "stream",
     "text": [
      "불린 인덱스로 필터링 결과: [6 7 8 9]\n"
     ]
    }
   ],
   "source": [
    "boolean_indexes = np.array([False, False, False, False, False,  True,  True,  True,  True])\n",
    "array3 = array1d[boolean_indexes]\n",
    "print('불린 인덱스로 필터링 결과:',array3)"
   ]
  },
  {
   "cell_type": "code",
   "execution_count": 30,
   "id": "591fd8f9",
   "metadata": {},
   "outputs": [
    {
     "name": "stdout",
     "output_type": "stream",
     "text": [
      "일반 인덱스로 필터링 결과: [6 7 8 9]\n"
     ]
    }
   ],
   "source": [
    "indexes = np.array([5,6,7,8])\n",
    "array4 = array1d[indexes]\n",
    "print('일반 인덱스로 필터링 결과:', array4)"
   ]
  },
  {
   "cell_type": "code",
   "execution_count": 31,
   "id": "1784df09",
   "metadata": {},
   "outputs": [
    {
     "name": "stdout",
     "output_type": "stream",
     "text": [
      "원본행렬: [3 1 9 5]\n",
      "np.sort()호출 후 반환된 정렬 행렬: [1 3 5 9]\n",
      "np.sort()호출 후 원본 행렬: [3 1 9 5]\n",
      "org_array.sort()호출 후 반환된 행렬: None\n",
      "org_array.sort()호출 후 원본 행렬: [1 3 5 9]\n"
     ]
    }
   ],
   "source": [
    "#행령의 정렬 : 넘파이에서 행렬 정렬하는 대표방법은 np.sort(), ndarray.sort(),  그리고 정렬된 행렬의 인덱스를반환 argsort()\n",
    "org_array = np.array([3,1,9,5])\n",
    "print('원본행렬:', org_array)\n",
    "\n",
    "#np.sort()로 정렬\n",
    "sort_array1 = np.sort(org_array)\n",
    "print('np.sort()호출 후 반환된 정렬 행렬:',sort_array1)\n",
    "print('np.sort()호출 후 원본 행렬:',org_array)\n",
    "\n",
    "#ndarray.sort()로 정렬\n",
    "sort_array2 =org_array.sort()\n",
    "print('org_array.sort()호출 후 반환된 행렬:', sort_array2)\n",
    "print('org_array.sort()호출 후 원본 행렬:', org_array)\n"
   ]
  },
  {
   "cell_type": "code",
   "execution_count": 32,
   "id": "2417f5a1",
   "metadata": {},
   "outputs": [
    {
     "name": "stdout",
     "output_type": "stream",
     "text": [
      "내림차순으로 정렬: [9 5 3 1]\n"
     ]
    }
   ],
   "source": [
    "#내림차순  [::-1]\n",
    "sort_array1_desc = np.sort(org_array)[::-1]\n",
    "print('내림차순으로 정렬:', sort_array1_desc)"
   ]
  },
  {
   "cell_type": "code",
   "execution_count": 37,
   "id": "245d8b0e",
   "metadata": {},
   "outputs": [
    {
     "name": "stdout",
     "output_type": "stream",
     "text": [
      "[[ 8 12]\n",
      " [ 7  1]]\n",
      "로우 방향으로 정렬:\n",
      " [[ 7  1]\n",
      " [ 8 12]]\n",
      "컬럼 방향으로 정렬:\n",
      " [[ 8 12]\n",
      " [ 1  7]]\n"
     ]
    }
   ],
   "source": [
    "#2차원이상일경우 axis기준으로 정렬가능\n",
    "array2d = np.array([[8,12],[7,1]])\n",
    "print(array2d)\n",
    "sort_array2d_axis0 = np.sort(array2d, axis=0)\n",
    "print('로우 방향으로 정렬:\\n', sort_array2d_axis0)\n",
    "\n",
    "sort_array2d_axis1 = np.sort(array2d, axis=1)\n",
    "print('컬럼 방향으로 정렬:\\n', sort_array2d_axis1)\n"
   ]
  },
  {
   "cell_type": "code",
   "execution_count": 40,
   "id": "e76b78e1",
   "metadata": {},
   "outputs": [
    {
     "name": "stdout",
     "output_type": "stream",
     "text": [
      "[3 1 9 5]\n",
      "<class 'numpy.ndarray'>\n",
      "행렬 정렬 시 원본 행렬의 인덱스: [1 0 3 2]\n",
      "행렬 내림차순 정렬 시 원본 행렬의 인덱스: [2 3 0 1]\n"
     ]
    }
   ],
   "source": [
    "#정렬된 행렬의 인덱스반환 (정렬 후 인덱스를 반환한다)\n",
    "org_array = np.array([3,1,9,5])\n",
    "print(org_array)\n",
    "sort_indices = np.argsort(org_array)\n",
    "print(type(sort_indices))\n",
    "print('행렬 정렬 시 원본 행렬의 인덱스:', sort_indices)\n",
    "\n",
    "sort_indices_desc = np.argsort(org_array)[::-1]\n",
    "print('행렬 내림차순 정렬 시 원본 행렬의 인덱스:',sort_indices_desc)"
   ]
  },
  {
   "cell_type": "code",
   "execution_count": 41,
   "id": "6539f265",
   "metadata": {},
   "outputs": [
    {
     "name": "stdout",
     "output_type": "stream",
     "text": [
      "성적 오름차순 정렬 시 score_array의 인덱스: [0 2 4 1 3]\n",
      "성적 오름차순으로 name_array의 이름 출력: ['john' 'sarah' 'samuel' 'mike' 'kate']\n"
     ]
    }
   ],
   "source": [
    "#넘파이에서 argsort활용\n",
    "import numpy as np\n",
    "\n",
    "name_array = np.array(['john','mike','sarah','kate','samuel'])\n",
    "score_array = np.array([78,95,84,98,88])\n",
    "\n",
    "sort_indices_asc = np.argsort(score_array)\n",
    "\n",
    "print('성적 오름차순 정렬 시 score_array의 인덱스:', sort_indices_asc)\n",
    "print('성적 오름차순으로 name_array의 이름 출력:', name_array[sort_indices_asc]) #fancy indexing"
   ]
  },
  {
   "cell_type": "code",
   "execution_count": 43,
   "id": "4ae8dc7d",
   "metadata": {},
   "outputs": [
    {
     "data": {
      "text/plain": [
       "array([[ 58,  64],\n",
       "       [139, 154]])"
      ]
     },
     "execution_count": 43,
     "metadata": {},
     "output_type": "execute_result"
    }
   ],
   "source": [
    "#행렬의 내적(곱) \n",
    "A = np.array([[1,2,3],[4,5,6]])\n",
    "B = np.array([[7,8],[9,10],[11,12]])\n",
    "np.dot(A,B)"
   ]
  },
  {
   "cell_type": "code",
   "execution_count": 44,
   "id": "8d6ae70e",
   "metadata": {},
   "outputs": [
    {
     "data": {
      "text/plain": [
       "numpy.ndarray"
      ]
     },
     "execution_count": 44,
     "metadata": {},
     "output_type": "execute_result"
    }
   ],
   "source": [
    "type(A)"
   ]
  },
  {
   "cell_type": "code",
   "execution_count": 45,
   "id": "93ee0b86",
   "metadata": {},
   "outputs": [
    {
     "name": "stdout",
     "output_type": "stream",
     "text": [
      "[[1 3]\n",
      " [2 4]]\n"
     ]
    }
   ],
   "source": [
    "#전치행렬\n",
    "A = np.array([[1,2],[3,4]])\n",
    "transpose_mat = np.transpose(A)\n",
    "print(transpose_mat)"
   ]
  },
  {
   "cell_type": "code",
   "execution_count": 46,
   "id": "a4674e67",
   "metadata": {},
   "outputs": [
    {
     "data": {
      "text/plain": [
       "array([[1, 3, 5],\n",
       "       [2, 4, 6]])"
      ]
     },
     "execution_count": 46,
     "metadata": {},
     "output_type": "execute_result"
    }
   ],
   "source": [
    "B = np.array([[1,2],[3,4],[5,6]])\n",
    "np.transpose(B)"
   ]
  },
  {
   "cell_type": "code",
   "execution_count": null,
   "id": "c944b712",
   "metadata": {},
   "outputs": [],
   "source": []
  }
 ],
 "metadata": {
  "kernelspec": {
   "display_name": "Python 3",
   "language": "python",
   "name": "python3"
  },
  "language_info": {
   "codemirror_mode": {
    "name": "ipython",
    "version": 3
   },
   "file_extension": ".py",
   "mimetype": "text/x-python",
   "name": "python",
   "nbconvert_exporter": "python",
   "pygments_lexer": "ipython3",
   "version": "3.8.8"
  }
 },
 "nbformat": 4,
 "nbformat_minor": 5
}
