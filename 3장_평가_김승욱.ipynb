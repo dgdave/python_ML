{
  "cells": [
    {
      "cell_type": "markdown",
      "metadata": {
        "id": "view-in-github",
        "colab_type": "text"
      },
      "source": [
        "<a href=\"https://colab.research.google.com/github/dgdave/python_ML/blob/main/3%EC%9E%A5_%ED%8F%89%EA%B0%80_%EA%B9%80%EC%8A%B9%EC%9A%B1.ipynb\" target=\"_parent\"><img src=\"https://colab.research.google.com/assets/colab-badge.svg\" alt=\"Open In Colab\"/></a>"
      ]
    },
    {
      "cell_type": "markdown",
      "id": "93a0cff9",
      "metadata": {
        "id": "93a0cff9"
      },
      "source": [
        "# 03 평가\n",
        "## 머신러닝의 프로세스 = \"데이터가공/변환\", \"모델 학습/예측\", \"평가\""
      ]
    },
    {
      "cell_type": "markdown",
      "id": "dd90d1eb",
      "metadata": {
        "id": "dd90d1eb"
      },
      "source": [
        "## 머신러닝 모델의 예측 성능을 평가하는 성능 평가 지표(EvaluationMetric)\n",
        "는 일반적으로 모델이 분류냐 회귀냐에 따라 여러종류로 나뉜다.\n",
        "\n",
        "### 분류 : 실제 결과 데이터와 예측 결과데이터가 얼마나 정확하고 오류가 적게발생하는가에 기반하지만,\n",
        "  단순히 정확도만 가지고 판단할경우 잘못된 평가결과에 빠질수있다. \n",
        "      \n",
        "#### *분류( 결정 클래스값 종류의 유형에 따라 )\n",
        "   1) 이진분류 : 긍정/부정과 같은 2개의 결괏값만을 가짐\n",
        "   \n",
        "   2) 멀티분류 : 여러개의 결정 클래스값을 가짐\n",
        "   \n",
        "##### 아래의 6개의 분류성능지표는 이진/멀티 분류 모두에 적용되는 지표.\n",
        " \n",
        " ##### 특히 이진분류에서 더욱 중요하게 강조되는 지표이다\n",
        " \n",
        "      1) 정확도(Accuracy)\n",
        "      \n",
        "      2) 오차행렬(Confusion Matrix)\n",
        "      \n",
        "      3) 정밀도(Precision)\n",
        "      \n",
        "      4) 재현율(Recall)\n",
        "      \n",
        "      5) F1 스코어\n",
        "      \n",
        "      6) ROC AUC"
      ]
    },
    {
      "cell_type": "markdown",
      "id": "4ec1d402",
      "metadata": {
        "id": "4ec1d402"
      },
      "source": [
        " ### 회귀 : 대부분 실제값과 예측값의 오차평균값에 기반(5장에서 상세하게 설명)"
      ]
    },
    {
      "cell_type": "markdown",
      "id": "da8b4976",
      "metadata": {
        "id": "da8b4976"
      },
      "source": [
        "## 01.정확도(Accuracy)"
      ]
    },
    {
      "cell_type": "markdown",
      "id": "4fcabbbb",
      "metadata": {
        "id": "4fcabbbb"
      },
      "source": [
        "### 정확도 : 실제데이터에서 예측 데이터가 얼마나 같은지를 판단하는 지표"
      ]
    },
    {
      "cell_type": "markdown",
      "id": "18d12eec",
      "metadata": {
        "id": "18d12eec"
      },
      "source": [
        "= ${예측결과가 동일한 데이터 건수 \\over 전체 예측 데이터 건수}$\n",
        "\n",
        "이는 직관적으로 모델예측성능을 나타내는 평가지표다.\n",
        "\n",
        "하지만, 이진 분류의 경우 ML모델의 성능을 왜곡할수있음.\n",
        "\n",
        "성능을 왜곡하는 예제를 살펴보자"
      ]
    },
    {
      "cell_type": "markdown",
      "id": "d4c5f49f",
      "metadata": {
        "id": "d4c5f49f"
      },
      "source": [
        "타이타닉 예제에서 별다른 알고리즘 적용없이 무조건 성별이 여자인경우 생존으로 예측해도 비슷할수있다.\n",
        "\n",
        "단지 성별조건하나만을 가지고 결정하는 별거 아닌 알고리즘도 높은 정확도를 나타내는 상황이 발생하는 것."
      ]
    },
    {
      "cell_type": "markdown",
      "id": "342b3436",
      "metadata": {
        "id": "342b3436"
      },
      "source": [
        "#### 사이킷런 BaseEstimator클래스 상속받아 아무런 학습하지않고 성별에 따라 생존자를 예측하는 단순한 Classifier를 생성"
      ]
    },
    {
      "cell_type": "markdown",
      "id": "ec2766ac",
      "metadata": {
        "id": "ec2766ac"
      },
      "source": [
        "##### 사이킷런은 BaseEstimator를 상속받으면 Customized형태의 Estimator를 개발자가 생성할수있다.\n",
        "##### 생성할 MyDummyClassifier클래스는 학습을 수행하는 fit()메서드는 아무런수행하지않으며, 예측을 수행하는 predict()메서드는 단순히  sex피쳐가 1이면0 으로 구분하는 단순한 classifier이다."
      ]
    },
    {
      "cell_type": "code",
      "execution_count": null,
      "id": "138211de",
      "metadata": {
        "id": "138211de"
      },
      "outputs": [],
      "source": [
        "import numpy as np\n",
        "from sklearn.base import BaseEstimator\n",
        "\n",
        "class MyDummyClassifier(BaseEstimator):\n",
        "    # fit()메서드는 아무것도 학습하지않음.\n",
        "    def fit(self, X, y=None):\n",
        "        pass\n",
        "    \n",
        "    # predict()메서드는 단순히 sex피쳐가 1이면0, 그렇지 않으면 1로 예측함.\n",
        "    def predict(self, X):\n",
        "        pred = np.zeros((X.shape[0],1))\n",
        "        for i in range (X.shape[0]) :\n",
        "            if X['Sex'].iloc[i] == 1:\n",
        "                pred[i] = 0\n",
        "            else :\n",
        "                pred[i] = 1\n",
        "        \n",
        "        return pred\n",
        "    "
      ]
    },
    {
      "cell_type": "markdown",
      "id": "ba19d723",
      "metadata": {
        "id": "ba19d723"
      },
      "source": [
        "이제 생성된 커스텀클래스를 이용해 타이타닉 생존자 예측 수행."
      ]
    },
    {
      "cell_type": "code",
      "execution_count": null,
      "id": "e1cd8f13",
      "metadata": {
        "id": "e1cd8f13"
      },
      "outputs": [],
      "source": [
        "# 데이터 가공 내역 정리, 함수로 만들어 쉽게 재사용\n",
        "# 데이터 전처리를 전체적으로 호출하는 함수 transform_featurs(): null처리, 포매팅, 인코딩 수행 내부 함수로 구성\n",
        "\n",
        "from sklearn.preprocessing import LabelEncoder\n",
        "\n",
        "# Null 처리 함수\n",
        "def fillna(df):\n",
        "    df['Age'].fillna(df['Age'].mean(),inplace=True)\n",
        "    df['Cabin'].fillna('N',inplace=True)\n",
        "    df['Embarked'].fillna('N',inplace=True)\n",
        "    df['Fare'].fillna(0,inplace=True)\n",
        "    return df\n",
        "\n",
        "# 머신러닝 알고리즘에 불필요한 속성 제거\n",
        "def drop_features(df):\n",
        "    df.drop(['PassengerId','Name','Ticket'],axis=1,inplace=True)\n",
        "    return df\n",
        "\n",
        "# 레이블 인코딩 수행. \n",
        "def format_features(df):\n",
        "    df['Cabin'] = df['Cabin'].str[:1]\n",
        "    features = ['Cabin','Sex','Embarked']\n",
        "    for feature in features:\n",
        "        le = LabelEncoder()\n",
        "        le = le.fit(df[feature])\n",
        "        df[feature] = le.transform(df[feature])\n",
        "    return df\n",
        "\n",
        "# 앞에서 설정한 Data Preprocessing 함수 호출\n",
        "def transform_features(df):\n",
        "    df = fillna(df)\n",
        "    df = drop_features(df)\n",
        "    df = format_features(df)\n",
        "    return df"
      ]
    },
    {
      "cell_type": "code",
      "execution_count": null,
      "id": "48224a73",
      "metadata": {
        "id": "48224a73",
        "outputId": "46318042-bade-4da3-9718-12fc7c95972b",
        "colab": {
          "base_uri": "https://localhost:8080/",
          "height": 405
        }
      },
      "outputs": [
        {
          "output_type": "error",
          "ename": "FileNotFoundError",
          "evalue": "ignored",
          "traceback": [
            "\u001b[0;31m---------------------------------------------------------------------------\u001b[0m",
            "\u001b[0;31mFileNotFoundError\u001b[0m                         Traceback (most recent call last)",
            "\u001b[0;32m<ipython-input-3-6554b4d0e5f0>\u001b[0m in \u001b[0;36m<module>\u001b[0;34m()\u001b[0m\n\u001b[1;32m      4\u001b[0m \u001b[0;34m\u001b[0m\u001b[0m\n\u001b[1;32m      5\u001b[0m \u001b[0;31m#원본 데이터를 재로딩, 데이터 가공, 학습 데이터/테스트 데이터 분할.\u001b[0m\u001b[0;34m\u001b[0m\u001b[0;34m\u001b[0m\u001b[0;34m\u001b[0m\u001b[0m\n\u001b[0;32m----> 6\u001b[0;31m \u001b[0mtitanic_df\u001b[0m \u001b[0;34m=\u001b[0m \u001b[0mpd\u001b[0m\u001b[0;34m.\u001b[0m\u001b[0mread_csv\u001b[0m\u001b[0;34m(\u001b[0m\u001b[0;34m\"titanic_train.csv\"\u001b[0m\u001b[0;34m)\u001b[0m\u001b[0;34m\u001b[0m\u001b[0;34m\u001b[0m\u001b[0m\n\u001b[0m\u001b[1;32m      7\u001b[0m \u001b[0my_titanic_df\u001b[0m \u001b[0;34m=\u001b[0m \u001b[0mtitanic_df\u001b[0m\u001b[0;34m[\u001b[0m\u001b[0;34m'Survived'\u001b[0m\u001b[0;34m]\u001b[0m\u001b[0;34m\u001b[0m\u001b[0;34m\u001b[0m\u001b[0m\n\u001b[1;32m      8\u001b[0m \u001b[0mX_titanic_df\u001b[0m \u001b[0;34m=\u001b[0m \u001b[0mtitanic_df\u001b[0m\u001b[0;34m.\u001b[0m\u001b[0mdrop\u001b[0m\u001b[0;34m(\u001b[0m\u001b[0;34m'Survived'\u001b[0m\u001b[0;34m,\u001b[0m\u001b[0maxis\u001b[0m\u001b[0;34m=\u001b[0m\u001b[0;36m1\u001b[0m\u001b[0;34m)\u001b[0m\u001b[0;34m\u001b[0m\u001b[0;34m\u001b[0m\u001b[0m\n",
            "\u001b[0;32m/usr/local/lib/python3.7/dist-packages/pandas/util/_decorators.py\u001b[0m in \u001b[0;36mwrapper\u001b[0;34m(*args, **kwargs)\u001b[0m\n\u001b[1;32m    309\u001b[0m                     \u001b[0mstacklevel\u001b[0m\u001b[0;34m=\u001b[0m\u001b[0mstacklevel\u001b[0m\u001b[0;34m,\u001b[0m\u001b[0;34m\u001b[0m\u001b[0;34m\u001b[0m\u001b[0m\n\u001b[1;32m    310\u001b[0m                 )\n\u001b[0;32m--> 311\u001b[0;31m             \u001b[0;32mreturn\u001b[0m \u001b[0mfunc\u001b[0m\u001b[0;34m(\u001b[0m\u001b[0;34m*\u001b[0m\u001b[0margs\u001b[0m\u001b[0;34m,\u001b[0m \u001b[0;34m**\u001b[0m\u001b[0mkwargs\u001b[0m\u001b[0;34m)\u001b[0m\u001b[0;34m\u001b[0m\u001b[0;34m\u001b[0m\u001b[0m\n\u001b[0m\u001b[1;32m    312\u001b[0m \u001b[0;34m\u001b[0m\u001b[0m\n\u001b[1;32m    313\u001b[0m         \u001b[0;32mreturn\u001b[0m \u001b[0mwrapper\u001b[0m\u001b[0;34m\u001b[0m\u001b[0;34m\u001b[0m\u001b[0m\n",
            "\u001b[0;32m/usr/local/lib/python3.7/dist-packages/pandas/io/parsers/readers.py\u001b[0m in \u001b[0;36mread_csv\u001b[0;34m(filepath_or_buffer, sep, delimiter, header, names, index_col, usecols, squeeze, prefix, mangle_dupe_cols, dtype, engine, converters, true_values, false_values, skipinitialspace, skiprows, skipfooter, nrows, na_values, keep_default_na, na_filter, verbose, skip_blank_lines, parse_dates, infer_datetime_format, keep_date_col, date_parser, dayfirst, cache_dates, iterator, chunksize, compression, thousands, decimal, lineterminator, quotechar, quoting, doublequote, escapechar, comment, encoding, encoding_errors, dialect, error_bad_lines, warn_bad_lines, on_bad_lines, delim_whitespace, low_memory, memory_map, float_precision, storage_options)\u001b[0m\n\u001b[1;32m    584\u001b[0m     \u001b[0mkwds\u001b[0m\u001b[0;34m.\u001b[0m\u001b[0mupdate\u001b[0m\u001b[0;34m(\u001b[0m\u001b[0mkwds_defaults\u001b[0m\u001b[0;34m)\u001b[0m\u001b[0;34m\u001b[0m\u001b[0;34m\u001b[0m\u001b[0m\n\u001b[1;32m    585\u001b[0m \u001b[0;34m\u001b[0m\u001b[0m\n\u001b[0;32m--> 586\u001b[0;31m     \u001b[0;32mreturn\u001b[0m \u001b[0m_read\u001b[0m\u001b[0;34m(\u001b[0m\u001b[0mfilepath_or_buffer\u001b[0m\u001b[0;34m,\u001b[0m \u001b[0mkwds\u001b[0m\u001b[0;34m)\u001b[0m\u001b[0;34m\u001b[0m\u001b[0;34m\u001b[0m\u001b[0m\n\u001b[0m\u001b[1;32m    587\u001b[0m \u001b[0;34m\u001b[0m\u001b[0m\n\u001b[1;32m    588\u001b[0m \u001b[0;34m\u001b[0m\u001b[0m\n",
            "\u001b[0;32m/usr/local/lib/python3.7/dist-packages/pandas/io/parsers/readers.py\u001b[0m in \u001b[0;36m_read\u001b[0;34m(filepath_or_buffer, kwds)\u001b[0m\n\u001b[1;32m    480\u001b[0m \u001b[0;34m\u001b[0m\u001b[0m\n\u001b[1;32m    481\u001b[0m     \u001b[0;31m# Create the parser.\u001b[0m\u001b[0;34m\u001b[0m\u001b[0;34m\u001b[0m\u001b[0;34m\u001b[0m\u001b[0m\n\u001b[0;32m--> 482\u001b[0;31m     \u001b[0mparser\u001b[0m \u001b[0;34m=\u001b[0m \u001b[0mTextFileReader\u001b[0m\u001b[0;34m(\u001b[0m\u001b[0mfilepath_or_buffer\u001b[0m\u001b[0;34m,\u001b[0m \u001b[0;34m**\u001b[0m\u001b[0mkwds\u001b[0m\u001b[0;34m)\u001b[0m\u001b[0;34m\u001b[0m\u001b[0;34m\u001b[0m\u001b[0m\n\u001b[0m\u001b[1;32m    483\u001b[0m \u001b[0;34m\u001b[0m\u001b[0m\n\u001b[1;32m    484\u001b[0m     \u001b[0;32mif\u001b[0m \u001b[0mchunksize\u001b[0m \u001b[0;32mor\u001b[0m \u001b[0miterator\u001b[0m\u001b[0;34m:\u001b[0m\u001b[0;34m\u001b[0m\u001b[0;34m\u001b[0m\u001b[0m\n",
            "\u001b[0;32m/usr/local/lib/python3.7/dist-packages/pandas/io/parsers/readers.py\u001b[0m in \u001b[0;36m__init__\u001b[0;34m(self, f, engine, **kwds)\u001b[0m\n\u001b[1;32m    809\u001b[0m             \u001b[0mself\u001b[0m\u001b[0;34m.\u001b[0m\u001b[0moptions\u001b[0m\u001b[0;34m[\u001b[0m\u001b[0;34m\"has_index_names\"\u001b[0m\u001b[0;34m]\u001b[0m \u001b[0;34m=\u001b[0m \u001b[0mkwds\u001b[0m\u001b[0;34m[\u001b[0m\u001b[0;34m\"has_index_names\"\u001b[0m\u001b[0;34m]\u001b[0m\u001b[0;34m\u001b[0m\u001b[0;34m\u001b[0m\u001b[0m\n\u001b[1;32m    810\u001b[0m \u001b[0;34m\u001b[0m\u001b[0m\n\u001b[0;32m--> 811\u001b[0;31m         \u001b[0mself\u001b[0m\u001b[0;34m.\u001b[0m\u001b[0m_engine\u001b[0m \u001b[0;34m=\u001b[0m \u001b[0mself\u001b[0m\u001b[0;34m.\u001b[0m\u001b[0m_make_engine\u001b[0m\u001b[0;34m(\u001b[0m\u001b[0mself\u001b[0m\u001b[0;34m.\u001b[0m\u001b[0mengine\u001b[0m\u001b[0;34m)\u001b[0m\u001b[0;34m\u001b[0m\u001b[0;34m\u001b[0m\u001b[0m\n\u001b[0m\u001b[1;32m    812\u001b[0m \u001b[0;34m\u001b[0m\u001b[0m\n\u001b[1;32m    813\u001b[0m     \u001b[0;32mdef\u001b[0m \u001b[0mclose\u001b[0m\u001b[0;34m(\u001b[0m\u001b[0mself\u001b[0m\u001b[0;34m)\u001b[0m\u001b[0;34m:\u001b[0m\u001b[0;34m\u001b[0m\u001b[0;34m\u001b[0m\u001b[0m\n",
            "\u001b[0;32m/usr/local/lib/python3.7/dist-packages/pandas/io/parsers/readers.py\u001b[0m in \u001b[0;36m_make_engine\u001b[0;34m(self, engine)\u001b[0m\n\u001b[1;32m   1038\u001b[0m             )\n\u001b[1;32m   1039\u001b[0m         \u001b[0;31m# error: Too many arguments for \"ParserBase\"\u001b[0m\u001b[0;34m\u001b[0m\u001b[0;34m\u001b[0m\u001b[0;34m\u001b[0m\u001b[0m\n\u001b[0;32m-> 1040\u001b[0;31m         \u001b[0;32mreturn\u001b[0m \u001b[0mmapping\u001b[0m\u001b[0;34m[\u001b[0m\u001b[0mengine\u001b[0m\u001b[0;34m]\u001b[0m\u001b[0;34m(\u001b[0m\u001b[0mself\u001b[0m\u001b[0;34m.\u001b[0m\u001b[0mf\u001b[0m\u001b[0;34m,\u001b[0m \u001b[0;34m**\u001b[0m\u001b[0mself\u001b[0m\u001b[0;34m.\u001b[0m\u001b[0moptions\u001b[0m\u001b[0;34m)\u001b[0m  \u001b[0;31m# type: ignore[call-arg]\u001b[0m\u001b[0;34m\u001b[0m\u001b[0;34m\u001b[0m\u001b[0m\n\u001b[0m\u001b[1;32m   1041\u001b[0m \u001b[0;34m\u001b[0m\u001b[0m\n\u001b[1;32m   1042\u001b[0m     \u001b[0;32mdef\u001b[0m \u001b[0m_failover_to_python\u001b[0m\u001b[0;34m(\u001b[0m\u001b[0mself\u001b[0m\u001b[0;34m)\u001b[0m\u001b[0;34m:\u001b[0m\u001b[0;34m\u001b[0m\u001b[0;34m\u001b[0m\u001b[0m\n",
            "\u001b[0;32m/usr/local/lib/python3.7/dist-packages/pandas/io/parsers/c_parser_wrapper.py\u001b[0m in \u001b[0;36m__init__\u001b[0;34m(self, src, **kwds)\u001b[0m\n\u001b[1;32m     49\u001b[0m \u001b[0;34m\u001b[0m\u001b[0m\n\u001b[1;32m     50\u001b[0m         \u001b[0;31m# open handles\u001b[0m\u001b[0;34m\u001b[0m\u001b[0;34m\u001b[0m\u001b[0;34m\u001b[0m\u001b[0m\n\u001b[0;32m---> 51\u001b[0;31m         \u001b[0mself\u001b[0m\u001b[0;34m.\u001b[0m\u001b[0m_open_handles\u001b[0m\u001b[0;34m(\u001b[0m\u001b[0msrc\u001b[0m\u001b[0;34m,\u001b[0m \u001b[0mkwds\u001b[0m\u001b[0;34m)\u001b[0m\u001b[0;34m\u001b[0m\u001b[0;34m\u001b[0m\u001b[0m\n\u001b[0m\u001b[1;32m     52\u001b[0m         \u001b[0;32massert\u001b[0m \u001b[0mself\u001b[0m\u001b[0;34m.\u001b[0m\u001b[0mhandles\u001b[0m \u001b[0;32mis\u001b[0m \u001b[0;32mnot\u001b[0m \u001b[0;32mNone\u001b[0m\u001b[0;34m\u001b[0m\u001b[0;34m\u001b[0m\u001b[0m\n\u001b[1;32m     53\u001b[0m \u001b[0;34m\u001b[0m\u001b[0m\n",
            "\u001b[0;32m/usr/local/lib/python3.7/dist-packages/pandas/io/parsers/base_parser.py\u001b[0m in \u001b[0;36m_open_handles\u001b[0;34m(self, src, kwds)\u001b[0m\n\u001b[1;32m    227\u001b[0m             \u001b[0mmemory_map\u001b[0m\u001b[0;34m=\u001b[0m\u001b[0mkwds\u001b[0m\u001b[0;34m.\u001b[0m\u001b[0mget\u001b[0m\u001b[0;34m(\u001b[0m\u001b[0;34m\"memory_map\"\u001b[0m\u001b[0;34m,\u001b[0m \u001b[0;32mFalse\u001b[0m\u001b[0;34m)\u001b[0m\u001b[0;34m,\u001b[0m\u001b[0;34m\u001b[0m\u001b[0;34m\u001b[0m\u001b[0m\n\u001b[1;32m    228\u001b[0m             \u001b[0mstorage_options\u001b[0m\u001b[0;34m=\u001b[0m\u001b[0mkwds\u001b[0m\u001b[0;34m.\u001b[0m\u001b[0mget\u001b[0m\u001b[0;34m(\u001b[0m\u001b[0;34m\"storage_options\"\u001b[0m\u001b[0;34m,\u001b[0m \u001b[0;32mNone\u001b[0m\u001b[0;34m)\u001b[0m\u001b[0;34m,\u001b[0m\u001b[0;34m\u001b[0m\u001b[0;34m\u001b[0m\u001b[0m\n\u001b[0;32m--> 229\u001b[0;31m             \u001b[0merrors\u001b[0m\u001b[0;34m=\u001b[0m\u001b[0mkwds\u001b[0m\u001b[0;34m.\u001b[0m\u001b[0mget\u001b[0m\u001b[0;34m(\u001b[0m\u001b[0;34m\"encoding_errors\"\u001b[0m\u001b[0;34m,\u001b[0m \u001b[0;34m\"strict\"\u001b[0m\u001b[0;34m)\u001b[0m\u001b[0;34m,\u001b[0m\u001b[0;34m\u001b[0m\u001b[0;34m\u001b[0m\u001b[0m\n\u001b[0m\u001b[1;32m    230\u001b[0m         )\n\u001b[1;32m    231\u001b[0m \u001b[0;34m\u001b[0m\u001b[0m\n",
            "\u001b[0;32m/usr/local/lib/python3.7/dist-packages/pandas/io/common.py\u001b[0m in \u001b[0;36mget_handle\u001b[0;34m(path_or_buf, mode, encoding, compression, memory_map, is_text, errors, storage_options)\u001b[0m\n\u001b[1;32m    705\u001b[0m                 \u001b[0mencoding\u001b[0m\u001b[0;34m=\u001b[0m\u001b[0mioargs\u001b[0m\u001b[0;34m.\u001b[0m\u001b[0mencoding\u001b[0m\u001b[0;34m,\u001b[0m\u001b[0;34m\u001b[0m\u001b[0;34m\u001b[0m\u001b[0m\n\u001b[1;32m    706\u001b[0m                 \u001b[0merrors\u001b[0m\u001b[0;34m=\u001b[0m\u001b[0merrors\u001b[0m\u001b[0;34m,\u001b[0m\u001b[0;34m\u001b[0m\u001b[0;34m\u001b[0m\u001b[0m\n\u001b[0;32m--> 707\u001b[0;31m                 \u001b[0mnewline\u001b[0m\u001b[0;34m=\u001b[0m\u001b[0;34m\"\"\u001b[0m\u001b[0;34m,\u001b[0m\u001b[0;34m\u001b[0m\u001b[0;34m\u001b[0m\u001b[0m\n\u001b[0m\u001b[1;32m    708\u001b[0m             )\n\u001b[1;32m    709\u001b[0m         \u001b[0;32melse\u001b[0m\u001b[0;34m:\u001b[0m\u001b[0;34m\u001b[0m\u001b[0;34m\u001b[0m\u001b[0m\n",
            "\u001b[0;31mFileNotFoundError\u001b[0m: [Errno 2] No such file or directory: 'titanic_train.csv'"
          ]
        }
      ],
      "source": [
        "import pandas as pd\n",
        "from sklearn.model_selection import train_test_split\n",
        "from sklearn.metrics import accuracy_score\n",
        "\n",
        "#원본 데이터를 재로딩, 데이터 가공, 학습 데이터/테스트 데이터 분할.\n",
        "titanic_df = pd.read_csv(\"titanic_train.csv\")\n",
        "y_titanic_df = titanic_df['Survived']\n",
        "X_titanic_df = titanic_df.drop('Survived',axis=1)\n",
        "X_titanic_df = transform_features(X_titanic_df)  #전처리함수\n",
        "X_train, X_test, y_train, y_test = train_test_split(X_titanic_df, y_titanic_df, test_size=0.2, random_state=0)\n",
        "\n",
        "#위에서 생성한 Dummy Classifier를 이용해 학습/예측/평가 수행\n",
        "myclf = MyDummyClassifier()\n",
        "myclf.fit(X_train, y_train)\n",
        "\n",
        "mypredictions = myclf.predict(X_test)\n",
        "print('Dummy Classifier의 정확도는 : {0:.4f}'.format(accuracy_score(y_test, mypredictions)))"
      ]
    },
    {
      "cell_type": "markdown",
      "id": "bb2cc938",
      "metadata": {
        "id": "bb2cc938"
      },
      "source": [
        "#### 이렇게 단순한 알고리즘으로 예측을 하더라도 데이터의 구성에 따라 정확도 결과는 약78.77%로  꽤 높은 수치가 나올수있기에 정확도를 평가 지표로 사용할 때는 매우 신중해야 합니다.\n"
      ]
    },
    {
      "cell_type": "markdown",
      "id": "0ed1e860",
      "metadata": {
        "id": "0ed1e860"
      },
      "source": [
        "#### 특히, 정확도는 불균현항(imbalanced)레이블 값 분포에서 ML모델의 성능을 판단할 경우, 적합한 평가 지표가 아니다.\n",
        "#### 예를 들어, 100개의 데이터중에 90개 데이터 레이블이 0, 단 10개의 데이터 레이블이 1이라고한다면 무조건 0으로 예측결과를 반환하는 ML모델의 경우라도 정확도가 90%가 된다"
      ]
    },
    {
      "cell_type": "markdown",
      "id": "3531f4c2",
      "metadata": {
        "id": "3531f4c2"
      },
      "source": [
        "#### 유명한 MNIST데이터세트를 변환해 불균형한 데이터 세트로 만든뒤에 정확도 지표 적용시 어떤 문제가 발생하는지 살펴보자\n",
        "MNIST설명 URL : https://sdc-james.gitbook.io/onebook/4.-and/5.1./5.1.3.-mnist-dataset\n",
        "\n",
        "MNIST데이터세트는 0부터9까지의 숫자 이미지의 픽셀 정보를 가지고있음.이를 기반으로 숫자Digit를 예측하는데 사용됨.\n",
        "\n",
        "사이킷런은 load_digits() API를 통해 제공한다.\n",
        "\n",
        "이것을 레이블값이 7인것만 True, 나머지는 모두 False로 변환하여 이진분류 문제로 변형해보자(즉, 전체 데이터의 10%만 True, 나머지 90%는 False인 불균형한 데이터 세트로 변형하는것)\n",
        "\n",
        "이렇게 불균형한 데이터 세트에 0으로 예측하는 classifier를 이용해 정확도를 측정하면 약90%에 가까운 예측 정확도를 나타낸다.\n",
        "\n",
        "**아무것도하지않고 무조건 특정한 결과로 찍어도 데이터 분포도가 균일하지 않은 경우 높은 수치가 나타날수있는 것이 정확도 평가지표의 맹점이다**"
      ]
    },
    {
      "cell_type": "code",
      "execution_count": null,
      "id": "fa37cb8e",
      "metadata": {
        "id": "fa37cb8e"
      },
      "outputs": [],
      "source": [
        "#불균형한 데이터 세트와 Dummy Classifier를 생성\n",
        "from sklearn.datasets import load_digits\n",
        "from sklearn.model_selection import train_test_split\n",
        "from sklearn.base import BaseEstimator\n",
        "from sklearn.metrics import accuracy_score\n",
        "import numpy as np\n",
        "import pandas as pd\n",
        "\n",
        "class MyFakeClassifier(BaseEstimator):\n",
        "    def fit(self, X, y):\n",
        "        pass\n",
        "    \n",
        "    #입력값으로 들어오는 X데이터세트의 크기만큼 모두 0값으로 만들어서 반환\n",
        "    def predict(self, X):\n",
        "        return np.zeros((len(X),1), dtype=bool)\n",
        "    \n",
        "    \n",
        "#사이킷런의 내장 데이터세트를 이용해 MNIST로딩\n",
        "digits = load_digits()\n",
        "\n",
        "#digits번호가 7번이면 True이고 이를 astype(int)로 1로 변환, 7번이 아니면 False이고 0으로 변환.\n",
        "y = (digits.target == 7).astype(int)\n",
        "X_train, X_test, y_train, y_test = train_test_split(digits.data, y, random_state=11)"
      ]
    },
    {
      "cell_type": "markdown",
      "id": "fde42b8b",
      "metadata": {
        "id": "fde42b8b"
      },
      "source": [
        "#### 다음으로 불균형한 데이터로 생성한 y_test의 데이터분포도를 확인하고 MyFakeClassifier를 이용해 예측과 평가를 수행해보자"
      ]
    },
    {
      "cell_type": "code",
      "execution_count": null,
      "id": "9e58d90f",
      "metadata": {
        "id": "9e58d90f",
        "outputId": "6f2baef2-1f5d-40bf-c62f-920ce1ad9db9"
      },
      "outputs": [
        {
          "name": "stdout",
          "output_type": "stream",
          "text": [
            "레이블 테스트 세트 크기 : (450,)\n",
            "테스트 세트 레이블 0과 1의 분포도\n",
            "0    405\n",
            "1     45\n",
            "dtype: int64\n",
            "모든 예측을 0으로 하여도 정확도는:0.900\n"
          ]
        }
      ],
      "source": [
        "#불균형한 레이블 데이터 분포도 확인\n",
        "print('레이블 테스트 세트 크기 :' , y_test.shape)\n",
        "print('테스트 세트 레이블 0과 1의 분포도')\n",
        "print(pd.Series(y_test).value_counts())\n",
        "\n",
        "\n",
        "#dummy classifier로 학습/예측/정확도 평가\n",
        "fakeclf = MyFakeClassifier()\n",
        "fakeclf.fit(X_train, y_train)\n",
        "fakepred = fakeclf.predict(X_test)\n",
        "print('모든 예측을 0으로 하여도 정확도는:{:.3f}'.format(accuracy_score(y_test, fakepred)))"
      ]
    },
    {
      "cell_type": "markdown",
      "id": "13ca0801",
      "metadata": {
        "id": "13ca0801"
      },
      "source": [
        "#### 이처럼 정확도 평가지표는 불균형한 레이블 데이터 세트에서는 성능 수치로 사용돼서는 안됩니다.\n",
        "### 정확도가 가지는 분류 평가 지표로서 이러한 한계점을 극복하기 위해 여러가지 분류 지표와 함께 적용해야한다. 먼저 True/False, Positive/Negative의 4분면으로 구성되는 오차행렬(Confusion Matrix)에 대해 설명해보자"
      ]
    },
    {
      "cell_type": "markdown",
      "id": "0e8daf0a",
      "metadata": {
        "id": "0e8daf0a"
      },
      "source": [
        "## 02.오차행렬(Confusion Matrix)"
      ]
    },
    {
      "cell_type": "markdown",
      "id": "d292a75a",
      "metadata": {
        "id": "d292a75a"
      },
      "source": [
        "### 이진 분류에서 성능지표로 잘활용됨. 이진분류의 예측 오류가 얼마인지와 더불어 어떠한 유형의 예측 오류가 발생하고 있는지 함께 나타내는 지표"
      ]
    },
    {
      "cell_type": "markdown",
      "id": "f0524e3b",
      "metadata": {
        "id": "f0524e3b"
      },
      "source": [
        "#### 4분면 행렬에서 실제 레이블 클래스 값과 예측 레이블 클래스 값이 어떠한 유형을 가지고 매핑되는지를 나타냄."
      ]
    },
    {
      "cell_type": "markdown",
      "id": "7cb58ccb",
      "metadata": {
        "id": "7cb58ccb"
      },
      "source": [
        "<img src=\"confusionmatrix.jpg\">"
      ]
    },
    {
      "cell_type": "markdown",
      "id": "12b3fcbc",
      "metadata": {
        "id": "12b3fcbc"
      },
      "source": [
        "예측 클래스와 실제 클래스의 Positive결정값과 Negative결정값의 결합에 따라 결정됨.\n",
        "\n",
        "TN : 예측값을 Negative값0으로 예측했고 실제 값도 Negative 값 0 \n",
        "\n",
        "FP : 예측값을 Positive 값1로 예측했는데 실제 값은 Negative 값 0\n",
        "\n",
        "FN : 예측값을 Negative값0으로 예측했는데 실제 값은 Positive값1\n",
        "\n",
        "TP : 예측값을 Positive값1로 예측했는데 실제 값 역시 Positive값1"
      ]
    },
    {
      "cell_type": "markdown",
      "id": "6c128b68",
      "metadata": {
        "id": "6c128b68"
      },
      "source": [
        "사이킷런은 오차행렬을 구하기위헤 confusion_matrix() API를 제공합니다.\n",
        "\n",
        "정확도 예제에서 다룬 MyFakeClassifier의 예측 성능 지표를 오차 행렬로 표현해보자\n",
        "\n",
        "(MyFakeClassifier 예측결과인 fakepred와 실제 결과인 y_test를 인자로 입력)"
      ]
    },
    {
      "cell_type": "code",
      "execution_count": null,
      "id": "c69d7024",
      "metadata": {
        "id": "c69d7024",
        "outputId": "644bbdf3-383e-4caa-f717-525116c914be"
      },
      "outputs": [
        {
          "data": {
            "text/plain": [
              "array([[405,   0],\n",
              "       [ 45,   0]], dtype=int64)"
            ]
          },
          "execution_count": 19,
          "metadata": {},
          "output_type": "execute_result"
        }
      ],
      "source": [
        "from sklearn.metrics import confusion_matrix\n",
        "\n",
        "confusion_matrix(y_test, fakepred)\n"
      ]
    },
    {
      "cell_type": "markdown",
      "id": "2582ce7f",
      "metadata": {
        "id": "2582ce7f"
      },
      "source": [
        "출력된 오차 행렬은 ndarray 형태\n"
      ]
    },
    {
      "cell_type": "markdown",
      "id": "18bdb392",
      "metadata": {
        "id": "18bdb392"
      },
      "source": [
        "일단, 예측을 무조건 negative(false)로 했기에 4분면중 오른쪽은 0건.\n",
        "\n",
        "모두 false이므로 false로 예측한 TN이 405개, 그중 45개만 true인데 false로 예측함.(FN=45개)"
      ]
    },
    {
      "cell_type": "markdown",
      "id": "07fb085a",
      "metadata": {
        "id": "07fb085a"
      },
      "source": [
        "##### TP,TN,FP,TN값은 Classifier성능의 여러 면모를 판단할 수 있는 기반 정보를 제공합니다. 이값을 조합해 Classifier의 성능을 측정할수있는 주요지표인 정확도(Accuracy), 정밀도(Precision), 재현율(Recall)값을 알수있다."
      ]
    },
    {
      "cell_type": "markdown",
      "id": "0bac87b6",
      "metadata": {
        "id": "0bac87b6"
      },
      "source": [
        "##### 정확도는 예측값과 실제값이 얼마나 동일한가에 대한 비율만으로 결정된다. 즉 , TN과 TP에 좌우된다.\n",
        "$정확도 = {(TN + TP) \\over ( TN + FP + FN + TP)}$ "
      ]
    },
    {
      "cell_type": "markdown",
      "id": "34661282",
      "metadata": {
        "id": "34661282"
      },
      "source": [
        "#### 일반적으로, 이진분류모델에서는 많은 데이터중에서 중점적으로 찾아야하는 매우 적은 수의 결괏값에 Positive를 설정해 1값을 부여하는 경우가 많음. 예를들어 사기행위예측모델에서는 사기행위가 Positive 양성으로 1, 정상행위가 Negative음성으로0값으로 설정하는 경우가 일반적이다."
      ]
    },
    {
      "cell_type": "markdown",
      "id": "c323d14c",
      "metadata": {
        "id": "c323d14c"
      },
      "source": [
        "##### 불균형한 이진 분류데이터세트에서는 Positive데이터 건수가 매우 작기때문에 데이터에 기반한 ML알고리즘은 positive보다 negative로 예측 정확도가 높아지는 경향이발생한다. TN은 매우커지고, TP는 매우작아짐. 또한 Negative로 예측할때 정확도가 높기 때문에 FN이 매우작고, FP역시 매우작아진다. "
      ]
    },
    {
      "cell_type": "markdown",
      "id": "d9cf3d3a",
      "metadata": {
        "id": "d9cf3d3a"
      },
      "source": [
        "#### 결과적으로 정확도 지표는 비대칭한 데이터세트에서 Positive에 대한 예측 정확도를 판단하지 못한채 Negative에 대한 예측 정확도만으로도 분류의 정확도가 매우 높게 나타나는 수치적인 판단 오류를 일으키게된다."
      ]
    },
    {
      "cell_type": "markdown",
      "id": "5422423f",
      "metadata": {
        "id": "5422423f"
      },
      "source": [
        "### 정확도는 분류모델의 성능을 측정할 수 있는 한 가지 요소일 뿐. 불균형한 데이터세트에서 정확도만으로는 모델 신뢰도가 떨어질수있는 사례를 보았으니, 다음으로는 불균형한데이터세트에서 정확도보다 더 선호되는 평가지표인 정밀도와 재현율에 대해 알아보자."
      ]
    },
    {
      "cell_type": "markdown",
      "id": "6ba2c868",
      "metadata": {
        "id": "6ba2c868"
      },
      "source": [
        "##### [참고]\n",
        "<img src='recall_precision.png'>"
      ]
    },
    {
      "cell_type": "markdown",
      "id": "811d73b6",
      "metadata": {
        "id": "811d73b6"
      },
      "source": [
        "**민감도(sensitivity) = TP/(TP+FN) = 재현율(recall)**\n",
        "\n",
        "TP + FN : 전체 양성 개수\n",
        "\n",
        "TP : 양성으로 판정했는데 실제로 양성인 경우\n",
        "\n",
        "\n",
        "**특이도(specificity)=TN/(TN+FP)**\n",
        "\n",
        "TN + FP : 전체 음성 개수\n",
        "\n",
        "TN : 음성으로 판정했는데 실제로 음성인 경우\n",
        "\n",
        "\n",
        "#민감도와 특이도는 한 쪽이 증가하면 다른 한 쪽이 감소하는 경향을 보일 수 있습니다.\n",
        "\n",
        "예를 들어 검사 항목을 모두 양성으로 판정하면 민감도는 1이 되지만\n",
        "\n",
        "특이도는 0이 되며 반대로 모두 음성으로 판정하면 특이도는 1이 되지만 민감도는 0이 됩니다.\n",
        "\n",
        "궁극적으로는 민감도와 특이도가 둘 다 높게 나오는 방법을 찾아야 합니다.\n",
        "\n",
        "\n",
        "**정확도(accuracy) = (TP+TN) / (TP+FN+FP+TN)**\n",
        "\n",
        "전체 중에 양성과 음성을 맞춘 개수\n",
        "\n",
        "\n",
        "**정밀도(Precision) = (TP/TP+FP)**\n",
        "\n",
        "양성이라고 판정한 것 중에 실제 양성 개수"
      ]
    },
    {
      "cell_type": "markdown",
      "id": "954f612b",
      "metadata": {
        "id": "954f612b"
      },
      "source": [
        "## 03.정밀도(Precision)와 재현율(Recall)"
      ]
    },
    {
      "cell_type": "markdown",
      "id": "d48cdbc5",
      "metadata": {
        "id": "d48cdbc5"
      },
      "source": [
        "정밀도 : TP/TP+FP\n",
        "\n",
        "재현율(민감도) : TP/(TP+FN)\n",
        "\n",
        "### 정밀도 : 예측을 Positive로 한 대상 중, 예측과 실제 값이 Positive로 일치한 데이터의 비율 \n",
        "### 재현율 : 실제 값이 Positive인 대상 중, 예측과 실제 값이 Positive로 일치한 데이터의 비율\n",
        "\n",
        " - 참고: 정밀도는 Positive예측 성능을 더욱 정밀하게 측정하기위한 평가지표로 양성예측도 라고도 불린다\n",
        "\n",
        " - 재현율 = 민감도(Sensitivity) = TPR(True Positive Rate)"
      ]
    },
    {
      "cell_type": "markdown",
      "id": "5a5ea86e",
      "metadata": {
        "id": "5a5ea86e"
      },
      "source": [
        "#### 재현율 ~ 암판단모델, 금융사기(보험사기) 등 \n",
        "\n",
        "1) 실제 Positive양성 데이터를 Negative로 잘못판단하게되면 업무상 큰영향이 발생하는 경우\n",
        "\n",
        "   ex. 암환자(Positive)를 음성으로 판단할경우 생명위험. opp. 암이아닌데(negative) 양성으로 판단할경우 재검하면됨.\n",
        "\n",
        "   ex. 사기거래(Positive)를 Negative로 오판단할경우 회사손해.\n",
        "\n",
        "\n",
        "2) 보통 재현율이 정밀도 보다 상대적으로 중요한 업무가 많지만. 정밀도가 중요한 경우도있음.\n",
        "\n",
        "ex.스팸메일(positive)을 negative인 일반메일로 분류할경우 문제없음(사용자불편수준), 실제 일반메일(negative)을 positive(스팸메일)로 분류할경우 메일수신이 안되어 업무차질발생.\n"
      ]
    },
    {
      "cell_type": "markdown",
      "id": "1575fdf4",
      "metadata": {
        "id": "1575fdf4"
      },
      "source": [
        "재현율과 정밀도 모두 TP를 높이는데 초점이맞추어져있으나,\n",
        "재현율은 FN(실제 P, 예측 N)을 낮추는데\n",
        "정밀도는 FP를 낮추는데 초점을 맞춤.\n",
        "\n",
        "모두 높은수치를 얻는것이 좋다. 반면에 둘중 한평가만 지표가 매우높고 다른하나는 매우 낮을 경우 바람직하지않음"
      ]
    },
    {
      "cell_type": "markdown",
      "id": "ff75d351",
      "metadata": {
        "id": "ff75d351"
      },
      "source": [
        "앞의 타이타닉에선 정확도에만 초점을 맞추었다면, 이번에 오차행렬 및 정밀도, 재현율을 모두 구하여 예측성능을 평가해보자\n",
        "사이킷런은 API를 제공한다(정밀도 precision_score(), 재현율 recall_score())\n",
        "\n",
        "평가의 편의를 위해 confusion matrix, accracy, precision, recall 등 한번에 호출하는 함수를 만들자. 그리고 타이타닉 데이터를 다시 로드하여 가공한 뒤 로지스틱 회귀로 분류를 수행하겠습니다"
      ]
    },
    {
      "cell_type": "code",
      "execution_count": null,
      "id": "1432a89e",
      "metadata": {
        "id": "1432a89e"
      },
      "outputs": [],
      "source": [
        "from sklearn.metrics import(accuracy_score, precision_score, recall_score, confusion_matrix)\n",
        "def get_clf_eval(y_test, pred):\n",
        "    confusion = confusion_matrix(y_test, pred)\n",
        "    accuracy = accuracy_score(y_test, pred)\n",
        "    precision = precision_score(y_test, pred)\n",
        "    recall = recall_score(y_test, pred)\n",
        "    print('오차 행렬')\n",
        "    print(confusion)\n",
        "    print('정확도:{0:4f}, 정밀도:{1:.4f}, 재현율:{2:.4f}'.format(accuracy, precision, recall))"
      ]
    },
    {
      "cell_type": "markdown",
      "id": "c5f0ae08",
      "metadata": {
        "id": "c5f0ae08"
      },
      "source": [
        "이제 로지스틱 회귀기반으로 타이타닉 생존자를 예측하고 confusion matrix, accuracy, precision, recall 평가를 수행합니다\n"
      ]
    },
    {
      "cell_type": "code",
      "execution_count": null,
      "id": "ccf2fca1",
      "metadata": {
        "id": "ccf2fca1"
      },
      "outputs": [],
      "source": [
        "import pandas as pd\n",
        "from sklearn.model_selection import train_test_split\n",
        "from sklearn.linear_model import LogisticRegression\n",
        "\n",
        "#원본데이터를 재로딩, 데이터 가공, 학습 데이터/테그트 데이터 분할\n",
        "\n",
        "\n",
        "titanic_df = pd.read_csv('titanic_train.csv')\n",
        "y_titanic_df = titanic_df['Survived']\n",
        "X_titanic_df= titanic_df.drop('Survived',axis=1)\n",
        "X_titanic_df = transform_features(X_titanic_df)\n",
        "\n",
        "X_train, X_test, y_train, y_test = train_test_split(X_titanic_df, y_titanic_df, test_size=0.20, random_state=11)\n",
        "lr_clf = LogisticRegression(max_iter=1000)"
      ]
    },
    {
      "cell_type": "code",
      "execution_count": null,
      "id": "36ed2d5f",
      "metadata": {
        "id": "36ed2d5f",
        "outputId": "92cfdc67-3960-4e85-de8c-eec76104e17d"
      },
      "outputs": [
        {
          "name": "stdout",
          "output_type": "stream",
          "text": [
            "오차 행렬\n",
            "[[104  14]\n",
            " [ 13  48]]\n",
            "정확도:0.849162, 정밀도:0.7742, 재현율:0.7869\n"
          ]
        }
      ],
      "source": [
        "lr_clf.fit(X_train, y_train)\n",
        "pred = lr_clf.predict(X_test)\n",
        "get_clf_eval(y_test, pred)"
      ]
    },
    {
      "cell_type": "markdown",
      "id": "3e0cf962",
      "metadata": {
        "id": "3e0cf962"
      },
      "source": [
        "### 정밀도/재현율 트레이드오프"
      ]
    },
    {
      "cell_type": "markdown",
      "id": "d45415cd",
      "metadata": {
        "id": "d45415cd"
      },
      "source": [
        "분류의 결정 임곗값(Threshold)을 조정하여 정밀도와 재현율 수치를 높일수 있다.\n",
        "\n",
        "하지만 상호보완적인 평가지표이기 때문에 한쪽을 높이면 다른쪽은 떨어지기쉽다 --> 이를 정밀도/재현율의 Trade-off라고한다"
      ]
    },
    {
      "cell_type": "markdown",
      "id": "aec63749",
      "metadata": {
        "id": "aec63749"
      },
      "source": [
        "사이킷런의 분류알고리즘은\n",
        "1) 예측데이터가 특정레이블(Lable,결정클래스값)에 속하는지를 계산하기위해 먼저 개별 레이블별로 결정확률을 구한다\n",
        "\n",
        "2) 예측확률이 큰 레이블값으로 예측하게 된다.\n",
        "\n",
        "ex) 0이될확률이 10%, 1이될 확률이 90%로 예측되면, 최종 예측은 더큰 확률을 가진 1로예측한다.\n",
        "\n",
        "일반적으로, 이진 분류에서는 이 **임계값**을 **0.5 즉 50%**로 정하고 이보다 크면 Positive,작으면 Negative로 결정한다"
      ]
    },
    {
      "cell_type": "markdown",
      "id": "fcab8d84",
      "metadata": {
        "id": "fcab8d84"
      },
      "source": [
        "predict_proba() : 개별 데이터별로 예측확률을 반환하는 메서드\n",
        "\n",
        "테스트 피처 데이터세트를 주면 테스트 피처 레코드의 개별 클래스 예측확률을 반환\n",
        "\n",
        "cf. predict()와 유사. 반환결과가 예측결과 클래스값이 아닌 예측확률결과\n",
        "\n",
        "반환값 ndarray는 첫 번째 칼럼이 클래스값0에 대한 예측확률,\n",
        "\n",
        "두번째 칼럼이 클래스 값1에 대한 예측확률"
      ]
    },
    {
      "cell_type": "code",
      "execution_count": null,
      "id": "a4a8963c",
      "metadata": {
        "id": "a4a8963c",
        "outputId": "8b1a32e5-8494-4517-c2e6-4f26a20a71d4"
      },
      "outputs": [
        {
          "name": "stdout",
          "output_type": "stream",
          "text": [
            "pred_proba()결과 Shape : (179, 2)\n",
            "pred_proba array에서 앞 3개만 샘플로 추출 \n",
            ": [[0.46216576 0.53783424]\n",
            " [0.8787286  0.1212714 ]\n",
            " [0.87716197 0.12283803]]\n",
            "두개의 class중에서 더큰 확률을 클래스 값으로 예측 \n",
            " [[0.46216576 0.53783424 1.        ]\n",
            " [0.8787286  0.1212714  0.        ]\n",
            " [0.87716197 0.12283803 0.        ]]\n"
          ]
        }
      ],
      "source": [
        "import numpy as np\n",
        "pred_proba = lr_clf.predict_proba(X_test)\n",
        "pred = lr_clf.predict(X_test)\n",
        "print('pred_proba()결과 Shape : {0}'.format(pred_proba.shape))\n",
        "print('pred_proba array에서 앞 3개만 샘플로 추출 \\n:', pred_proba[:3])\n",
        "\n",
        "#예측확률 array와 예측결괏값 array를 병합해 예측 확률과 결괏값을 한눈에 확인\n",
        "pred_proba_result = np.concatenate([pred_proba, pred.reshape(-1,1)], axis=1)\n",
        "print('두개의 class중에서 더큰 확률을 클래스 값으로 예측 \\n', pred_proba_result[:3])"
      ]
    },
    {
      "cell_type": "markdown",
      "id": "dc294905",
      "metadata": {
        "id": "dc294905"
      },
      "source": [
        "첫번째 칼럼과 두번째 칼럼을 더하면 1이다.(예측확률을 반환함)\n",
        "\n",
        "두개의 칼럼중에서 더 큰 확률 값으로predict()메서드가 최종 예측하고있음."
      ]
    },
    {
      "cell_type": "markdown",
      "id": "6a28d411",
      "metadata": {
        "id": "6a28d411"
      },
      "source": [
        "*predict()메서드는 predict_proba()메서드에 기반해 생성된 API이다"
      ]
    },
    {
      "cell_type": "markdown",
      "id": "4695d6dc",
      "metadata": {
        "id": "4695d6dc"
      },
      "source": [
        "분류 결정 임계값을 조절해 정밀도와 재현율의 성능 수치를 상화보완적으로 조정할수있다\n",
        "\n",
        "이를 코드로 구현해보자 (기본 임곗값 0.5)\n",
        "\n",
        "Binarizer클래스로 구현가능\n",
        "\n",
        "-사용법: threshold변수를 특정 값으로 설정하고 Binirizer클래스를 객체로 생성한다, \n",
        "\n",
        "생성된 Binirizer객체의 fit_trainsform()메서드를 이용해 넘파이 ndarray를 입력하면 입력된 ndarray의 값을 지정된 threshold보다 같거나 작으면 0으로 크면 1ㄹ로 반환한다\n",
        "\n",
        "아래 예제를 보자"
      ]
    },
    {
      "cell_type": "code",
      "execution_count": null,
      "id": "15255014",
      "metadata": {
        "id": "15255014"
      },
      "outputs": [],
      "source": [
        "from sklearn.preprocessing import Binarizer"
      ]
    },
    {
      "cell_type": "code",
      "execution_count": null,
      "id": "9765af82",
      "metadata": {
        "id": "9765af82"
      },
      "outputs": [],
      "source": [
        "X = [[1,-1,2],\n",
        "    [2,0,0],\n",
        "    [0,1.1, 1.2]]"
      ]
    },
    {
      "cell_type": "code",
      "execution_count": null,
      "id": "ea1b9a40",
      "metadata": {
        "id": "ea1b9a40"
      },
      "outputs": [],
      "source": [
        "#X의 개별 원소들이 threshold값보다 같거나 작으면0을 , 크면1을 반환\n",
        "binarizer = Binarizer(threshold=1.1)"
      ]
    },
    {
      "cell_type": "code",
      "execution_count": null,
      "id": "9488ae66",
      "metadata": {
        "id": "9488ae66",
        "outputId": "9da93286-e57d-41e7-dce3-85a737c26e6b"
      },
      "outputs": [
        {
          "name": "stdout",
          "output_type": "stream",
          "text": [
            "[[0. 0. 1.]\n",
            " [1. 0. 0.]\n",
            " [0. 0. 1.]]\n"
          ]
        }
      ],
      "source": [
        "print(binarizer.fit_transform(X))"
      ]
    },
    {
      "cell_type": "markdown",
      "id": "e5ec5877",
      "metadata": {
        "id": "e5ec5877"
      },
      "source": [
        "이제 Binarizer를 이용해 사이킷런predict()와 의사(pesudo)코드를 만들어보자."
      ]
    },
    {
      "cell_type": "code",
      "execution_count": null,
      "id": "4a8b10bb",
      "metadata": {
        "id": "4a8b10bb",
        "outputId": "5e9ba8d5-2fe4-48d9-a4ad-f895db31c370"
      },
      "outputs": [
        {
          "name": "stdout",
          "output_type": "stream",
          "text": [
            "오차 행렬\n",
            "[[104  14]\n",
            " [ 13  48]]\n",
            "정확도:0.849162, 정밀도:0.7742, 재현율:0.7869\n"
          ]
        }
      ],
      "source": [
        "from sklearn.preprocessing import Binarizer\n",
        "\n",
        "#Binarizer의 threshold설정값, 분류 결정 임곗값임.\n",
        "custom_threshold = 0.5\n",
        "\n",
        "#predict_proba()반환값의 두 번째 칼럼, 즉 positive클래스 칼럼 하나만 추출해 binarizer를 적용\n",
        "pred_proba_1 = pred_proba[:,1].reshape(-1,1)\n",
        "\n",
        "binarizer= Binarizer(threshold=custom_threshold).fit(pred_proba_1)\n",
        "custom_predict = binarizer.transform(pred_proba_1)\n",
        "\n",
        "get_clf_eval(y_test, custom_predict)\n"
      ]
    },
    {
      "cell_type": "markdown",
      "id": "91c01782",
      "metadata": {
        "id": "91c01782"
      },
      "source": [
        "이결과로인해\n",
        "\n",
        "1) 앞예제의 타이타닉 데이터로 학습된 로지스틱회귀 classifier객체에서 호출된 predict()로 계산된 지표 값과 정확히 같다\n",
        "\n",
        "2) predict()가 predic_proba()에 기반함을 알수 있다\n"
      ]
    },
    {
      "cell_type": "markdown",
      "id": "20f5364b",
      "metadata": {
        "id": "20f5364b"
      },
      "source": [
        "만일 이 분류 결정 임곗값을 낮추면 평가지표는 어떻게 변할까?"
      ]
    },
    {
      "cell_type": "code",
      "execution_count": null,
      "id": "e8e3e6cc",
      "metadata": {
        "id": "e8e3e6cc"
      },
      "outputs": [],
      "source": [
        "#임곗값을 0.4로 낮춰보자\n",
        "#Binarizer의 threshold설정값을 0.4로설정. 즉 분류 결정 임곗값을 0.5에서 0.4로 낮춤\n",
        "\n",
        "custom_threshold = 0.4\n",
        "pred_proba_1 = pred_proba[:,1].reshape(-1,1)\n",
        "binarizer = Binarizer(threshold=custom_threshold).fit(pred_proba_1)\n",
        "custom_predict=binarizer.transform(pred_proba_1)"
      ]
    },
    {
      "cell_type": "code",
      "execution_count": null,
      "id": "413751c8",
      "metadata": {
        "id": "413751c8",
        "outputId": "2802993e-c8bc-4c5f-fd9d-534c6ec15d43"
      },
      "outputs": [
        {
          "name": "stdout",
          "output_type": "stream",
          "text": [
            "오차 행렬\n",
            "[[98 20]\n",
            " [10 51]]\n",
            "정확도:0.832402, 정밀도:0.7183, 재현율:0.8361\n"
          ]
        }
      ],
      "source": [
        "get_clf_eval(y_test, custom_predict)"
      ]
    },
    {
      "cell_type": "markdown",
      "id": "8418ac3a",
      "metadata": {
        "id": "8418ac3a"
      },
      "source": [
        "임곗값을 낮추니 재현율값이 오르고 정밀도가 떨어짐.\n",
        "\n",
        "이유는 분류 결정 임곗값은 Positive예측값을 결정하는 확률의 기준이된다. 확률이0.5가 아닌.04부터 positive로예측을 너그럽게 하기때문에\n",
        "임곗값 값을 낮출수록True값이 많아지게된다\n"
      ]
    },
    {
      "cell_type": "markdown",
      "id": "f6307bdd",
      "metadata": {
        "id": "f6307bdd"
      },
      "source": [
        "이번에는 임곗값을 0.4부터 0.6까지 0.05씩 증가시키며 평가 지표를 조사해보자."
      ]
    },
    {
      "cell_type": "code",
      "execution_count": null,
      "id": "2955352f",
      "metadata": {
        "id": "2955352f"
      },
      "outputs": [],
      "source": [
        "#테스트를 수행할 모든 임곗값을 리스트 객체로 저장.\n",
        "thresholds = [0.4,0.45,0.50, 0.55, 0.60]\n",
        "\n",
        "def get_eval_by_threshold(y_test, pred_proba_c1, thresholds):\n",
        "    #thresholds list객체 내의 값을 차례로 iteration하면서 evaluation수행\n",
        "    for custom_threshold in thresholds:\n",
        "        binarizer = Binarizer(threshold=custom_threshold).fit(pred_proba_c1)\n",
        "        custom_predict = binarizer.transform(pred_proba_c1)\n",
        "        print('임곗값:', custom_threshold)\n",
        "        get_clf_eval(y_test, custom_predict)\n",
        "        "
      ]
    },
    {
      "cell_type": "code",
      "execution_count": null,
      "id": "b78669f9",
      "metadata": {
        "scrolled": true,
        "id": "b78669f9",
        "outputId": "d599b6e1-4fad-4c28-8fdf-fa5b0be30991"
      },
      "outputs": [
        {
          "name": "stdout",
          "output_type": "stream",
          "text": [
            "임곗갑시 0.4\n",
            "오차 행렬\n",
            "[[98 20]\n",
            " [10 51]]\n",
            "정확도:0.832402, 정밀도:0.7183, 재현율:0.8361\n",
            "임곗갑시 0.45\n",
            "오차 행렬\n",
            "[[103  15]\n",
            " [ 12  49]]\n",
            "정확도:0.849162, 정밀도:0.7656, 재현율:0.8033\n",
            "임곗갑시 0.5\n",
            "오차 행렬\n",
            "[[104  14]\n",
            " [ 13  48]]\n",
            "정확도:0.849162, 정밀도:0.7742, 재현율:0.7869\n",
            "임곗갑시 0.55\n",
            "오차 행렬\n",
            "[[109   9]\n",
            " [ 15  46]]\n",
            "정확도:0.865922, 정밀도:0.8364, 재현율:0.7541\n",
            "임곗갑시 0.6\n",
            "오차 행렬\n",
            "[[112   6]\n",
            " [ 16  45]]\n",
            "정확도:0.877095, 정밀도:0.8824, 재현율:0.7377\n"
          ]
        }
      ],
      "source": [
        "get_eval_by_threshold(y_test, pred_proba[:,1].reshape(-1,1), thresholds)"
      ]
    },
    {
      "cell_type": "markdown",
      "id": "a3e935af",
      "metadata": {
        "id": "a3e935af"
      },
      "source": [
        "0.5와 비교했을때 정확도는 동일하고 정밀도는 약간 떨어졌으나 재현율이 올랐습니다\n",
        "\n",
        "0.45가 가장적당해보임"
      ]
    },
    {
      "cell_type": "markdown",
      "id": "47684d0e",
      "metadata": {
        "id": "47684d0e"
      },
      "source": [
        "지금까지 임곗값 변화에 따른 평가 지표 값을 알아보는 코드를 작성했습니다.\n",
        "\n",
        "사이킷런은 이와유사한 precision_recall_curve() api를 제공한다 ??!!!\n",
        "\n",
        "인자값으로는 **실제값 데이터 세트** 와 **레이블 값이 1일 때의 예측확률 값**을 입력\n",
        "\n",
        "-레이블값이 1일때의 예측확률값 = predict_proba(X_test)[:,1]로 predict_proba()의 반환 ndarray 의 두번째칼럼값에 해당하는 데이터 세트\n",
        "\n",
        "precision_recall_curve()는 일반적으로 0.11~0.95정도의 임곗값을 담은 넘파이 ndarray와 이 임곗값에 해당하는 정밀도 및 재현율 값을 담은 넘파이 ndarra를 반환합니다"
      ]
    },
    {
      "cell_type": "markdown",
      "id": "8c9dcfd3",
      "metadata": {
        "id": "8c9dcfd3"
      },
      "source": [
        "반환되는 임곗값이 너무 작은 값단위로 많이 구성돼 있음. 반환된 임곗값의 데이터가 143건이므로 샘플로 10건만 추출하되, 임곗값을 15단계로 추출해 좀더큰값의 임곗값과 그때의 정밀도와 재현율을 살펴보자"
      ]
    },
    {
      "cell_type": "code",
      "execution_count": null,
      "id": "c83060ef",
      "metadata": {
        "id": "c83060ef",
        "outputId": "538545ec-6467-45e6-e2f9-542cd47c9b2f"
      },
      "outputs": [
        {
          "name": "stdout",
          "output_type": "stream",
          "text": [
            "반환된 분류 결정 임곗값 배열의 Shape: (143,)\n",
            "샘플 추출을 위한 임계값 배열의 index 10개: [  0  15  30  45  60  75  90 105 120 135]\n",
            "샘플용 10개의 임곗값: [0.104 0.121 0.14  0.186 0.28  0.403 0.563 0.667 0.822 0.947]\n",
            "샘플 임계값별 정밀도: [0.389 0.44  0.466 0.539 0.647 0.729 0.836 0.949 0.958 1.   ]\n",
            "샘플 임계값별 재현율: [1.    0.967 0.902 0.902 0.902 0.836 0.754 0.607 0.377 0.148]\n"
          ]
        }
      ],
      "source": [
        "from sklearn.metrics import precision_recall_curve\n",
        "\n",
        "#레이블 값이 1일 때의 예측 확률을 추출\n",
        "pred_proba_class1 = lr_clf.predict_proba(X_test)[:,1]\n",
        "\n",
        "#실제값 데이터 세트와 레이블 값이 1일 때의 예측 확률을 precision_recall_curve인자로 입력\n",
        "precisions, recalls, thresholds = precision_recall_curve(y_test, pred_proba_class1)\n",
        "print('반환된 분류 결정 임곗값 배열의 Shape:', thresholds.shape)\n",
        "\n",
        "#반환된 임계값 배열 로우가 147건이므로 샘플로 10건만 추출하되, 임곘값을 15 Step으로 추출.\n",
        "thr_index = np.arange(0, thresholds.shape[0], 15)\n",
        "print('샘플 추출을 위한 임계값 배열의 index 10개:', thr_index)\n",
        "print('샘플용 10개의 임곗값:', np.round(thresholds[thr_index],3))\n",
        "\n",
        "#15 step단위로 추출된 임계깞에 따른 정밀도와 재현율 값\n",
        "print('샘플 임계값별 정밀도:', np.round(precisions[thr_index],3))\n",
        "print('샘플 임계값별 재현율:', np.round(recalls[thr_index],3))"
      ]
    },
    {
      "cell_type": "markdown",
      "id": "e6abbe33",
      "metadata": {
        "id": "e6abbe33"
      },
      "source": [
        "정밀도와 재현율 곡선을 시각화해보자"
      ]
    },
    {
      "cell_type": "code",
      "execution_count": null,
      "id": "a73f8c2e",
      "metadata": {
        "id": "a73f8c2e"
      },
      "outputs": [],
      "source": [
        "import matplotlib.pyplot as plt\n",
        "import matplotlib.ticker as ticker\n",
        "%matplotlib inline"
      ]
    },
    {
      "cell_type": "code",
      "execution_count": null,
      "id": "3ad4615c",
      "metadata": {
        "id": "3ad4615c",
        "outputId": "33e65b6e-ccc7-4120-e084-ba92c3a41944"
      },
      "outputs": [
        {
          "data": {
            "image/png": "[encoded data removed]",
            "text/plain": [
              "<Figure size 576x432 with 1 Axes>"
            ]
          },
          "metadata": {
            "needs_background": "light"
          },
          "output_type": "display_data"
        }
      ],
      "source": [
        "def precision_recall_curve_plot(y_test, pred_proba_c1):\n",
        "    #threshold ndarray와 이 threshold에 따른 정밀도, 재현율 ndarray추출\n",
        "    precisions, recalls, thresholds = precision_recall_curve(y_test, pred_proba_c1)\n",
        "    \n",
        "    #x축을 threshold값으로, y축은 정밀도, 재현율 값으로 각각 Plot수행. 정밀도는 점섬\n",
        "    plt.figure(figsize=(8,6))\n",
        "    threshold_boundary = thresholds.shape[0]\n",
        "    plt.plot(thresholds, precisions[0:threshold_boundary], linestyle='--', label='precision')\n",
        "    plt.plot(thresholds, recalls[0:threshold_boundary], label='recall')\n",
        "    \n",
        "    #threshold값 X축의 Scale을 0.1단위로 변경\n",
        "    start, end = plt.xlim()\n",
        "    plt.xticks(np.round(np.arange(start, end, 0.1),2))\n",
        "    \n",
        "    #x축, y축 label과 legent, 그리고 grid설정\n",
        "    plt.xlabel('Threshold value'); plt.ylabel('Precision and Recall value')\n",
        "    plt.legend(); plt.grid()\n",
        "    plt.show()\n",
        "    \n",
        "precision_recall_curve_plot(y_test, lr_clf.predict_proba(X_test)[:,1])"
      ]
    },
    {
      "cell_type": "markdown",
      "id": "8b8b889e",
      "metadata": {
        "id": "8b8b889e"
      },
      "source": [
        "정밀도는 점섬으로, 재현율은 실선으로 표현.\n",
        "임곗값이 낮을수록 많은 수의 양성 예측으로 인해 재현율 값이 극도로 높아지고 정밀도 값이 극도로 낮아집니다.\n",
        "약 0.51지점에서 재현율과 정밀도가 비슷해지는 모습을 보입니다"
      ]
    },
    {
      "cell_type": "markdown",
      "id": "36e49db4",
      "metadata": {
        "id": "36e49db4"
      },
      "source": [
        "### 정밀도와 재현율의 맹점"
      ]
    },
    {
      "cell_type": "markdown",
      "id": "93afd29f",
      "metadata": {
        "id": "93afd29f"
      },
      "source": [
        "Positive예측의 임곗값을 변경함에 따라 수치가 변경된다.\n",
        "\n",
        "임곗값의 이러한 변경은 업무환경에 맞게 두 개의 수치를 상호 보완할 수 있는 수준에서 적용돼야한다.\n"
      ]
    },
    {
      "cell_type": "markdown",
      "id": "862aa8c5",
      "metadata": {
        "id": "862aa8c5"
      },
      "source": [
        "#### 정밀도가 100%가 되는 방법"
      ]
    },
    {
      "cell_type": "markdown",
      "id": "888fa8aa",
      "metadata": {
        "id": "888fa8aa"
      },
      "source": [
        "확실한 기준이 되는 경우만 Positive로 예측. 나머지모두 Negative로 예측\n",
        "\n",
        "ex.환자가 80세이상이고 비만이며 이전에 암진단받고 암세포크기가 상우0.1%이상이면 무조건 positive.다른경우는 negative로 예측\n",
        "\n",
        "정밀도 = $TP\\over(TP+FP)$ 이므로 전체환자 1000명중 확실한 징후만 가진환자는 단 1명이라고한다면 이 한명만 Positive로 예측(TP=1), \n",
        "나머지는모두 Negative로 예측한다(FP=0) . 그럼 정밀도는 1/(1+0)으로 100%가 된다"
      ]
    },
    {
      "cell_type": "markdown",
      "id": "506c8a7b",
      "metadata": {
        "id": "506c8a7b"
      },
      "source": [
        "#### 재현율이 100%가 되는 방법"
      ]
    },
    {
      "cell_type": "markdown",
      "id": "a9c505a1",
      "metadata": {
        "id": "a9c505a1"
      },
      "source": [
        "모든환자를 Positive로 예측. 재현율 = $TP\\over(TP+FN)$ 이므로 전체 환자 1000명을 다 Positive로 예측한다\n",
        "\n",
        "이중 실제 양성인 사람이 30명정도라도 TN이 수치가 포함되지않고 FN은 아예0이므로 $30\\over(30+0)$으로 100%가 된다"
      ]
    },
    {
      "cell_type": "markdown",
      "id": "2532f8f4",
      "metadata": {
        "id": "2532f8f4"
      },
      "source": [
        "## 이처럼 어느 한쪽만 참조하면 극단적인 수치 조작이 가능하므로, 정밀도와 재현율의 수치가 적절하게 조합돼 분류의 종합적인 성능 평가에 사용될수있는 평가지표가 필요하다\n",
        "\n",
        "ex)암예측모델에서 재현율을 높인다고 걸핏하면 양성으로 판단할 경우 환자의 부담과 불평이 커지게 된다"
      ]
    },
    {
      "cell_type": "markdown",
      "id": "bd4749a4",
      "metadata": {
        "id": "bd4749a4"
      },
      "source": [
        "## 04. F1스코어"
      ]
    },
    {
      "cell_type": "markdown",
      "id": "668d208f",
      "metadata": {
        "id": "668d208f"
      },
      "source": [
        " 정밀도와 재현율을 결합한 지표\n",
        " \n",
        " 어느한쪽으로 치우치치 않는 수치를 나타낼때 상대적으로 높음(ex. A모델은 0.9 와 0.1 이고 B 0.5,0.5 이라면 0.18과 0.5로 B모델이 더우수)"
      ]
    },
    {
      "cell_type": "markdown",
      "id": "ece90627",
      "metadata": {
        "id": "ece90627"
      },
      "source": [
        "$F1=\\frac{2}{\\frac{1}{recall}\\ +\\ \\frac{1}{precision}}=2\\ *\\ \\frac{precision\\ *\\ recall}{precision\\ +\\ recall}$"
      ]
    },
    {
      "cell_type": "code",
      "execution_count": null,
      "id": "f02b1755",
      "metadata": {
        "id": "f02b1755"
      },
      "outputs": [],
      "source": [
        "from sklearn.metrics import f1_score\n",
        "f1 = f1_score(y_test, pred)"
      ]
    },
    {
      "cell_type": "code",
      "execution_count": null,
      "id": "289215d7",
      "metadata": {
        "id": "289215d7",
        "outputId": "aff74438-68cb-487c-f4c9-c301914b0160"
      },
      "outputs": [
        {
          "name": "stdout",
          "output_type": "stream",
          "text": [
            "F1스코어:0.7805\n"
          ]
        }
      ],
      "source": [
        "print('F1스코어:{0:.4f}'.format(f1))"
      ]
    },
    {
      "cell_type": "markdown",
      "id": "294d5aa7",
      "metadata": {
        "id": "294d5aa7"
      },
      "source": [
        "get_clf_eval()함수에 f1스코어를 구하는 로직을 추가하고, get_eval_by_threshold()함수를 이용해 임곗값 0.4~0.6별로 정확도, 정밀도, 재현율, F1스코어를 알아보겠습니다"
      ]
    },
    {
      "cell_type": "code",
      "execution_count": null,
      "id": "4bbde168",
      "metadata": {
        "id": "4bbde168",
        "outputId": "daf34399-7b97-40fc-ef7c-3c97c42f23a1"
      },
      "outputs": [
        {
          "name": "stdout",
          "output_type": "stream",
          "text": [
            "임곗값: 0.4\n",
            "오차행렬\n",
            "[[98 20]\n",
            " [10 51]]\n",
            "정확도:0.8324, 정밀도:0.7183, 재현율:0.8361, F1:0.7727\n",
            "임곗값: 0.45\n",
            "오차행렬\n",
            "[[103  15]\n",
            " [ 12  49]]\n",
            "정확도:0.8492, 정밀도:0.7656, 재현율:0.8033, F1:0.7840\n",
            "임곗값: 0.5\n",
            "오차행렬\n",
            "[[104  14]\n",
            " [ 13  48]]\n",
            "정확도:0.8492, 정밀도:0.7742, 재현율:0.7869, F1:0.7805\n",
            "임곗값: 0.55\n",
            "오차행렬\n",
            "[[109   9]\n",
            " [ 15  46]]\n",
            "정확도:0.8659, 정밀도:0.8364, 재현율:0.7541, F1:0.7931\n",
            "임곗값: 0.6\n",
            "오차행렬\n",
            "[[112   6]\n",
            " [ 16  45]]\n",
            "정확도:0.8771, 정밀도:0.8824, 재현율:0.7377, F1:0.8036\n"
          ]
        }
      ],
      "source": [
        "def get_clf_eval(y_test, pred):\n",
        "    confusion = confusion_matrix(y_test, pred)\n",
        "    accuracy = accuracy_score(y_test,pred)\n",
        "    precision = precision_score(y_test, pred)\n",
        "    recall = recall_score(y_test, pred)\n",
        "    \n",
        "    #F1스코어추가\n",
        "    f1=f1_score(y_test, pred)\n",
        "    print('오차행렬')\n",
        "    print(confusion)\n",
        "    \n",
        "    #F1 score print추가\n",
        "    print('정확도:{0:.4f}, 정밀도:{1:.4f}, 재현율:{2:.4f}, F1:{3:.4f}'.format(accuracy, precision, recall, f1))\n",
        "    \n",
        "thresholds = [0.4,0.45,0.5,0.55,0.6]\n",
        "pred_proba= lr_clf.predict_proba(X_test)\n",
        "get_eval_by_threshold(y_test, pred_proba[:,1].reshape(-1,1), thresholds)"
      ]
    },
    {
      "cell_type": "markdown",
      "id": "fc6d3944",
      "metadata": {
        "id": "fc6d3944"
      },
      "source": [
        "임곗값이 0.6일때 가장좋은값이지만 재현율이 크게 감소하고있음."
      ]
    },
    {
      "cell_type": "markdown",
      "id": "c344fd8c",
      "metadata": {
        "id": "c344fd8c"
      },
      "source": [
        "## 05. ROC곡선과 AUC 스코어\n",
        "#### Receiver Operation Characteristic Curve, 수신자 판단 곡선"
      ]
    },
    {
      "cell_type": "markdown",
      "id": "f3f526c4",
      "metadata": {
        "id": "f3f526c4"
      },
      "source": [
        "머신러닝의 이진분류모델의 예측성능을 판단하는 중요한 지표\n",
        "\n",
        "### ROC곡선 : FPR이 변할 때 TPR이 어떻게 변하는지 나타내는 곡선\n"
      ]
    },
    {
      "cell_type": "markdown",
      "id": "e699e06e",
      "metadata": {
        "id": "e699e06e"
      },
      "source": [
        "FPR(False Positive Rate) = x축 = FP/(FP+TN) = 1- TNR = 1 -특이성\n",
        "\n",
        "TPR(True Positive Rate) = y축 = 재현율 = 민감도 cf.이에 대응하는 지표는 TNR(True Negative Rate) 특이성\n",
        ": TPR(민감도)는 실제 Positive(양성)가 정확히 예측돼야 하는 수준(질병있는사람은 질병있는것으로 양성판정)\n",
        "<> TNR(특이성)은  음성이 정확히 예측돼야하는 수준\n",
        "\n",
        "TNR(True Negative Rate) = TN/(FP+TN)"
      ]
    },
    {
      "cell_type": "markdown",
      "id": "70364d36",
      "metadata": {
        "id": "70364d36"
      },
      "source": [
        "RCC곡선의 특징\n",
        "1) 가운데 직선은 이진분류의 ROC직선(ex.동전 무작위 던져 앞/뒤를 맞추는 랜덤수준의 이진분류)\n",
        "\n",
        "2) 가운데 직선의 AUC는 0.5. ROC곡선이 가운데 직선에 가까울수록 성능이 떨어지는것.\n",
        "\n",
        "3) FPR을 0부터 1까지 변경하면서 TPR의 변화값을 구하는것(임곗값을 변경 하여)\n",
        "  * 분류결정임계값은 Positive예측값을 결정하는 확률의 기준. FPR을 0으로 하려면 임곗값을 1로지정.\n",
        "\n",
        "\n",
        "이렇게 임곗값을 1부터 0까지 변화시키면서 FPR을 구하고 FPR값의 변화에 따른 TPR값을 구하는것이 ROC곡산\n",
        "\n",
        "(so, 임곗값을 1부터0까지 변화시키면서 구한 재현율 곡선과 유사)\n",
        "\n",
        "\n",
        "\n",
        "\n",
        "\n",
        "         분류결정임곗값(Positive예측값을 결정하는 확률의 기준)\n",
        "\n",
        "       0 ------------------------------------1\n",
        "\n",
        "TN=0(Negative가없기때문)  <------------->  FP=0 (Positive가 없음)\n",
        "\n",
        "FPR=1   <--------------------------------->     FPR=0"
      ]
    },
    {
      "cell_type": "markdown",
      "id": "843d76fd",
      "metadata": {
        "id": "843d76fd"
      },
      "source": [
        "사이킷런은 ROC곡선을 구하기위해 roc_curve() API를 제공한다\n",
        "\n",
        "반환값 : FPR, TPR, 임곗값 모두 array\n"
      ]
    },
    {
      "cell_type": "code",
      "execution_count": null,
      "id": "7ee9ba7d",
      "metadata": {
        "id": "7ee9ba7d",
        "outputId": "d6ae576f-de18-495f-8f30-e2f9f1656b87"
      },
      "outputs": [
        {
          "name": "stdout",
          "output_type": "stream",
          "text": [
            "샘플 추출을 위한 임계값 배열의 index: [ 1  6 11 16 21 26 31 36 41 46 51]\n",
            "샘플 index로 추출한 임곗값: [0.97 0.65 0.63 0.56 0.45 0.4  0.35 0.15 0.13 0.11 0.11]\n",
            "샘플 임곘값별 FPR: [0.    0.017 0.034 0.076 0.127 0.169 0.203 0.466 0.585 0.686 0.797]\n",
            "샘플 임곗값별 TRP: [0.033 0.639 0.721 0.754 0.803 0.836 0.885 0.902 0.934 0.967 0.984]\n"
          ]
        }
      ],
      "source": [
        "from sklearn.metrics import roc_curve\n",
        "\n",
        "#레이블 값이 1일때의 예측 확률을 추출\n",
        "pred_proba_class1 = lr_clf.predict_proba(X_test)[:,1]\n",
        "\n",
        "fprs, tprs, thresholds = roc_curve(y_test, pred_proba_class1)\n",
        "\n",
        "#반환된 임곘값 배열에서 샘플로 데이터를 추출하되, 임곗값을 5 step으로 추출.\n",
        "#threshold[0]은 max(예측확률)+1로 임의 설정됨. 이를 제외하기 위해 np.arange는 1부터 시작\n",
        "thr_index=np.arange(1, thresholds.shape[0],5)\n",
        "print('샘플 추출을 위한 임계값 배열의 index:', thr_index)\n",
        "print('샘플 index로 추출한 임곗값:', np.round(thresholds[thr_index],2))\n",
        "\n",
        "#5 step단위로 추출된 임계값에 따른 FPR, TPR값\n",
        "print('샘플 임곘값별 FPR:', np.round(fprs[thr_index],3))\n",
        "print('샘플 임곗값별 TRP:', np.round(tprs[thr_index],3))"
      ]
    },
    {
      "cell_type": "markdown",
      "id": "8803a072",
      "metadata": {
        "id": "8803a072"
      },
      "source": [
        "임곗값이 1에 가까운 값에서 점점작아지면서 FPR이 점점커짐\n",
        "\n",
        "FPR이 조금씩 커질때 TPR은 가파르게 커짐\n",
        "\n"
      ]
    },
    {
      "cell_type": "code",
      "execution_count": null,
      "id": "6b048b79",
      "metadata": {
        "id": "6b048b79",
        "outputId": "8644df78-ca0a-42f7-b230-822f7c0928e6"
      },
      "outputs": [
        {
          "data": {
            "image/png": "[encoded data removed]",
            "text/plain": [
              "<Figure size 432x288 with 1 Axes>"
            ]
          },
          "metadata": {
            "needs_background": "light"
          },
          "output_type": "display_data"
        }
      ],
      "source": [
        "def roc_curve_plot(y_test, pred_proba_c1):\n",
        "    #임곗값에 따른 FPR, TPR값을 반환받음.\n",
        "    fprs, tprs, thresholds = roc_curve(y_test, pred_proba_c1)\n",
        "    \n",
        "    #ROC곡선을 그래프 곡선으로 그림.\n",
        "    plt.plot(fprs, tprs, label='ROC')\n",
        "    \n",
        "    #가운데 대각선 직선을 그림\n",
        "    plt.plot([0,1], [0,1], 'k--', label='Random')\n",
        "       \n",
        "    \n",
        "    #FPR X축의 Scale을 0.1단위로 변경, X, Y축 명 설정 등\n",
        "    start, end = plt.xlim()\n",
        "    plt.xticks(np.round(np.arange(start, end, 0.1),2))\n",
        "    plt.xlim(0,1); plt.ylim(0,1)    \n",
        "    plt.xlabel('FPR(1-Sensitivity)'); plt.ylabel('TPR(Recall)')\n",
        "    plt.legend()\n",
        "    \n",
        "roc_curve_plot(y_test, pred_proba[:,1])"
      ]
    },
    {
      "cell_type": "markdown",
      "id": "83ebf964",
      "metadata": {
        "id": "83ebf964"
      },
      "source": [
        "일반적으로 ROC곡선자체는 FPR과 TPR의 변화값을 ㄹ보는데 이용하며 분류의 성능지표로 사용되는것은 ROC곡선 면적에 기반한 AUC값으로 결정합니다.(Area Under Curve)\n",
        "\n",
        "AUC는 1에 가까울수록 좋은 수치. -> AUC가 커지려면 FPR이 작은 상태에서 얼마나 큰 TPR을 얻을수있느냐가 관건.\n",
        "\n",
        "(가운데직선에서 멀어지고 왼쪽상단모서리쪽으로 가파르게 곡선이 이동할수록 직사각형에 가까운 곡선이되어 1에 가까워짐)"
      ]
    },
    {
      "cell_type": "code",
      "execution_count": null,
      "id": "64852628",
      "metadata": {
        "id": "64852628",
        "outputId": "2de7a124-2ced-44ea-f22c-95c46adb4df6"
      },
      "outputs": [
        {
          "name": "stdout",
          "output_type": "stream",
          "text": [
            "ROC AUC값:0.9024\n"
          ]
        }
      ],
      "source": [
        "from sklearn.metrics import roc_auc_score\n",
        "pred_proba= lr_clf.predict_proba(X_test)[:,1]\n",
        "roc_score = roc_auc_score(y_test, pred_proba)\n",
        "print('ROC AUC값:{0:.4f}'.format(roc_score))"
      ]
    },
    {
      "cell_type": "markdown",
      "id": "b004fb75",
      "metadata": {
        "id": "b004fb75"
      },
      "source": [
        "타이타닉 생존자 예측 로지스틱 회귀모델의 ROC AUC값은 약 0.9024로 측정됐습니다\n",
        "\n",
        "마지막으로 get_clf_eval()함수에 ROC AUC값을 측정하는 로직을 추가합니다.\n",
        "\n",
        "이제 get_clf_eval()함수는 정확도,정밀도,재현율,F1스코어, ROC AUC값까지 출력가능\n"
      ]
    },
    {
      "cell_type": "code",
      "execution_count": null,
      "id": "bed71e16",
      "metadata": {
        "id": "bed71e16"
      },
      "outputs": [],
      "source": [
        "def get_clf_eval(y_test, pred=None, pred_proba=None):\n",
        "    confusion = confusion_matrix(y_test, pred)\n",
        "    accuracy = accuracy_score(y_test,pred)\n",
        "    precision = precision_score(y_test, pred)\n",
        "    recall = recall_score(y_test, pred)\n",
        "    f1=f1_score(y_test, pred)\n",
        "    \n",
        "    #ROC-AUC추가\n",
        "    roc_auc=roc_auc_score(y_test, pred_proba)\n",
        "    print('오차행렬')\n",
        "    print(confusion)\n",
        "    \n",
        "    #ROC AUC print추가\n",
        "    print('정확도:{0:.4f}, 정밀도:{1:.4f}, 재현율:{2:.4f}, F1:{3:.4f}, AUC:{4:.4f}'.format(accuracy, precision, recall, f1, roc_auc))"
      ]
    },
    {
      "cell_type": "code",
      "execution_count": null,
      "id": "79d6bc4d",
      "metadata": {
        "scrolled": true,
        "id": "79d6bc4d",
        "outputId": "b78b3b9d-bb13-45d4-ba16-950bf157431b"
      },
      "outputs": [
        {
          "name": "stdout",
          "output_type": "stream",
          "text": [
            "오차행렬\n",
            "[[104  14]\n",
            " [ 13  48]]\n",
            "정확도:0.8492, 정밀도:0.7742, 재현율:0.7869, F1:0.7805, AUC:0.9024\n"
          ]
        }
      ],
      "source": [
        "get_clf_eval(y_test, pred, pred_proba)"
      ]
    },
    {
      "cell_type": "markdown",
      "id": "e29172f4",
      "metadata": {
        "id": "e29172f4"
      },
      "source": [
        "## 06. 피마 인디언 당뇨병 예측(Pima Indian Diabetes)"
      ]
    },
    {
      "cell_type": "markdown",
      "id": "f727ff1b",
      "metadata": {
        "id": "f727ff1b"
      },
      "source": [
        "Goal \n",
        "1) 당뇨병여부를 판단하는 머신러닝 예측모델을 수립\n",
        "\n",
        "2) 평가지표 적용"
      ]
    },
    {
      "cell_type": "markdown",
      "id": "e34553e5",
      "metadata": {
        "id": "e34553e5"
      },
      "source": [
        "data\n",
        "\n",
        "북아메리카 피마지역원주민의 Type-2 당뇨병결과 데이터\n",
        "\n",
        ">https://www.kaggle.com/uciml/pima-indians-diabetes-database"
      ]
    },
    {
      "cell_type": "markdown",
      "id": "abf00021",
      "metadata": {
        "id": "abf00021"
      },
      "source": [
        "피처 설명\n",
        "\n",
        "Pregnancies\t: 임신횟수\n",
        "\n",
        "Glucose\t:포도당 부하 검사 수치\n",
        "\n",
        "BloodPressure\t:혈압\n",
        "\n",
        "SkinThickness\t:팔 삼두근 뒤쪽의 피하지방 측정값\n",
        "\n",
        "Insulin\t:혈청 인슐린\n",
        "\n",
        "BMI\t:체질량지수\n",
        "\n",
        "DiabetesPedigreeFunction\t:당뇨 내력 가중치 값\n",
        "\n",
        "Age\t:나이\n",
        "\n",
        "Outcome\t:클래스 결정 값(0,1)\n"
      ]
    },
    {
      "cell_type": "markdown",
      "id": "6443e3ad",
      "metadata": {
        "id": "6443e3ad"
      },
      "source": [
        "### (A) data를 dataframe으로 로드 , 모듈 import, outcome클래스 결정값의 분포 확인 "
      ]
    },
    {
      "cell_type": "code",
      "execution_count": null,
      "id": "c55c5533",
      "metadata": {
        "id": "c55c5533"
      },
      "outputs": [],
      "source": [
        "import pandas as pd\n",
        "import numpy as np\n",
        "import matplotlib.pyplot as plt\n",
        "%matplotlib inline\n",
        "\n",
        "from sklearn.model_selection import train_test_split\n",
        "from sklearn.metrics import accuracy_score, precision_score, recall_score, roc_auc_score\n",
        "from sklearn.metrics import f1_score, confusion_matrix, precision_recall_curve, roc_curve\n",
        "from sklearn.preprocessing import StandardScaler\n",
        "from sklearn.linear_model import LogisticRegression"
      ]
    },
    {
      "cell_type": "code",
      "execution_count": null,
      "id": "a844bbb1",
      "metadata": {
        "id": "a844bbb1",
        "outputId": "3d97fc36-1e64-435c-a8ba-cf75a6eab3f5"
      },
      "outputs": [
        {
          "name": "stdout",
          "output_type": "stream",
          "text": [
            "0    500\n",
            "1    268\n",
            "Name: Outcome, dtype: int64\n"
          ]
        },
        {
          "data": {
            "text/html": [
              "<div>\n",
              "<style scoped>\n",
              "    .dataframe tbody tr th:only-of-type {\n",
              "        vertical-align: middle;\n",
              "    }\n",
              "\n",
              "    .dataframe tbody tr th {\n",
              "        vertical-align: top;\n",
              "    }\n",
              "\n",
              "    .dataframe thead th {\n",
              "        text-align: right;\n",
              "    }\n",
              "</style>\n",
              "<table border=\"1\" class=\"dataframe\">\n",
              "  <thead>\n",
              "    <tr style=\"text-align: right;\">\n",
              "      <th></th>\n",
              "      <th>Pregnancies</th>\n",
              "      <th>Glucose</th>\n",
              "      <th>BloodPressure</th>\n",
              "      <th>SkinThickness</th>\n",
              "      <th>Insulin</th>\n",
              "      <th>BMI</th>\n",
              "      <th>DiabetesPedigreeFunction</th>\n",
              "      <th>Age</th>\n",
              "      <th>Outcome</th>\n",
              "    </tr>\n",
              "  </thead>\n",
              "  <tbody>\n",
              "    <tr>\n",
              "      <th>0</th>\n",
              "      <td>6</td>\n",
              "      <td>148</td>\n",
              "      <td>72</td>\n",
              "      <td>35</td>\n",
              "      <td>0</td>\n",
              "      <td>33.6</td>\n",
              "      <td>0.627</td>\n",
              "      <td>50</td>\n",
              "      <td>1</td>\n",
              "    </tr>\n",
              "    <tr>\n",
              "      <th>1</th>\n",
              "      <td>1</td>\n",
              "      <td>85</td>\n",
              "      <td>66</td>\n",
              "      <td>29</td>\n",
              "      <td>0</td>\n",
              "      <td>26.6</td>\n",
              "      <td>0.351</td>\n",
              "      <td>31</td>\n",
              "      <td>0</td>\n",
              "    </tr>\n",
              "    <tr>\n",
              "      <th>2</th>\n",
              "      <td>8</td>\n",
              "      <td>183</td>\n",
              "      <td>64</td>\n",
              "      <td>0</td>\n",
              "      <td>0</td>\n",
              "      <td>23.3</td>\n",
              "      <td>0.672</td>\n",
              "      <td>32</td>\n",
              "      <td>1</td>\n",
              "    </tr>\n",
              "  </tbody>\n",
              "</table>\n",
              "</div>"
            ],
            "text/plain": [
              "   Pregnancies  Glucose  BloodPressure  SkinThickness  Insulin   BMI  \\\n",
              "0            6      148             72             35        0  33.6   \n",
              "1            1       85             66             29        0  26.6   \n",
              "2            8      183             64              0        0  23.3   \n",
              "\n",
              "   DiabetesPedigreeFunction  Age  Outcome  \n",
              "0                     0.627   50        1  \n",
              "1                     0.351   31        0  \n",
              "2                     0.672   32        1  "
            ]
          },
          "execution_count": 110,
          "metadata": {},
          "output_type": "execute_result"
        }
      ],
      "source": [
        "diabetes_data = pd.read_csv(\"diabetes.csv\")\n",
        "print(diabetes_data['Outcome'].value_counts())\n",
        "diabetes_data.head(3)"
      ]
    },
    {
      "cell_type": "markdown",
      "id": "cd00e1f9",
      "metadata": {
        "id": "cd00e1f9"
      },
      "source": [
        "##### (a) 768개 데이터 중, Negative 값0이 500개, Positive 값1이 268개."
      ]
    },
    {
      "cell_type": "markdown",
      "id": "20276a18",
      "metadata": {
        "id": "20276a18"
      },
      "source": [
        "### (B) feature타입과 null개수 살펴보자"
      ]
    },
    {
      "cell_type": "code",
      "execution_count": null,
      "id": "6b77aab4",
      "metadata": {
        "id": "6b77aab4",
        "outputId": "c9870e02-e3ec-46e2-a0ac-c919e8fbd7d1"
      },
      "outputs": [
        {
          "name": "stdout",
          "output_type": "stream",
          "text": [
            "<class 'pandas.core.frame.DataFrame'>\n",
            "RangeIndex: 768 entries, 0 to 767\n",
            "Data columns (total 9 columns):\n",
            " #   Column                    Non-Null Count  Dtype  \n",
            "---  ------                    --------------  -----  \n",
            " 0   Pregnancies               768 non-null    int64  \n",
            " 1   Glucose                   768 non-null    int64  \n",
            " 2   BloodPressure             768 non-null    int64  \n",
            " 3   SkinThickness             768 non-null    int64  \n",
            " 4   Insulin                   768 non-null    int64  \n",
            " 5   BMI                       768 non-null    float64\n",
            " 6   DiabetesPedigreeFunction  768 non-null    float64\n",
            " 7   Age                       768 non-null    int64  \n",
            " 8   Outcome                   768 non-null    int64  \n",
            "dtypes: float64(2), int64(7)\n",
            "memory usage: 54.1 KB\n"
          ]
        }
      ],
      "source": [
        "diabetes_data.info()"
      ]
    },
    {
      "cell_type": "markdown",
      "id": "78b7826a",
      "metadata": {
        "id": "78b7826a"
      },
      "source": [
        "##### (b)\n",
        "\n",
        "##### 1) Null값 없음\n",
        "\n",
        "##### 2) 피처의 타입은 모두 숫자형\n",
        "\n",
        "##### 3) 임신횟수, 나이 --숫자형 피쳐\n",
        "\n",
        "##### 당뇨검사수치 등 별도의 피처 인코딩은 필요없음\n"
      ]
    },
    {
      "cell_type": "markdown",
      "id": "aea29f41",
      "metadata": {
        "id": "aea29f41"
      },
      "source": [
        "### (C) 로지스틱 회귀를 이용해 예측모델을 생성\n",
        "\n",
        "데이터세트를 피처데이터/클래스데이터로 나누고, 학습데이터세트와 테스트 데이터 세트로 분리\n",
        "\n",
        "앞예제에서 사용한 유틸리티함수 get_clf_eval(), get_eval_by_threshold(), precision_recall_curve_plot()을 이용해 성능평가지표 출력\n",
        "\n",
        "재현율 곡선 시각화"
      ]
    },
    {
      "cell_type": "code",
      "execution_count": null,
      "id": "4e6857cf",
      "metadata": {
        "id": "4e6857cf",
        "outputId": "c304f581-a50f-44e7-bcf9-72e5634abc48"
      },
      "outputs": [
        {
          "name": "stdout",
          "output_type": "stream",
          "text": [
            "오차행렬\n",
            "[[88 12]\n",
            " [23 31]]\n",
            "정확도:0.7727, 정밀도:0.7209, 재현율:0.5741, F1:0.6392, AUC:0.7919\n"
          ]
        },
        {
          "name": "stderr",
          "output_type": "stream",
          "text": [
            "C:\\ProgramData\\Anaconda3\\lib\\site-packages\\sklearn\\linear_model\\_logistic.py:763: ConvergenceWarning: lbfgs failed to converge (status=1):\n",
            "STOP: TOTAL NO. of ITERATIONS REACHED LIMIT.\n",
            "\n",
            "Increase the number of iterations (max_iter) or scale the data as shown in:\n",
            "    https://scikit-learn.org/stable/modules/preprocessing.html\n",
            "Please also refer to the documentation for alternative solver options:\n",
            "    https://scikit-learn.org/stable/modules/linear_model.html#logistic-regression\n",
            "  n_iter_i = _check_optimize_result(\n"
          ]
        }
      ],
      "source": [
        "#피쳐 데이터 세트 X, 레이블 데이터 세트 Y \n",
        "#맨 끝이 Outcome칼럼으로 레이블 값임. 갈럼 위치 -1 이용해 추출\n",
        "\n",
        "X= diabete_data.iloc[:,:-1]\n",
        "y= diabete_data.iloc[:,-1]\n",
        "\n",
        "X_train, X_test, y_train, y_test = train_test_split(X, y, test_size=0.2, random_state=156, stratify=y)\n",
        "\n",
        "#로지스틱 회귀로 학습, 예측 및 평가 수행\n",
        "lr_clf = LogisticRegression()\n",
        "lr_clf.fit(X_train, y_train)\n",
        "pred = lr_clf.predict(X_test)\n",
        "pred_proba = lr_clf.predict_proba(X_test)[:,1]\n",
        "\n",
        "#앞서 진행했던함수 복사\n",
        "def get_clf_eval(y_test, pred=None, pred_proba=None):\n",
        "    confusion = confusion_matrix(y_test, pred)\n",
        "    accuracy = accuracy_score(y_test,pred)\n",
        "    precision = precision_score(y_test, pred)\n",
        "    recall = recall_score(y_test, pred)\n",
        "    f1=f1_score(y_test, pred)\n",
        "    roc_auc=roc_auc_score(y_test, pred_proba)\n",
        "    print('오차행렬')\n",
        "    print(confusion)\n",
        "    print('정확도:{0:.4f}, 정밀도:{1:.4f}, 재현율:{2:.4f}, F1:{3:.4f}, AUC:{4:.4f}'.format(accuracy, precision, recall, f1, roc_auc))\n",
        "    \n",
        "    \n",
        "get_clf_eval(y_test, pred, pred_proba)"
      ]
    },
    {
      "cell_type": "markdown",
      "id": "437deb3e",
      "metadata": {
        "id": "437deb3e"
      },
      "source": [
        "##### (c) 정확도 77% 재현율 57%. 전체데이터의 65%가 Negative이므로 정확도보다는 재현율성능에 조금더 초점을 맞추자"
      ]
    },
    {
      "cell_type": "markdown",
      "id": "0e3600ce",
      "metadata": {
        "id": "0e3600ce"
      },
      "source": [
        "### (D) 먼저 정밀도 재현율 곡선을 보고 임곗값별 정밀도/재현율 값의 변화를 확인해보자 (precision_recall_curve_plot() 함수이용)"
      ]
    },
    {
      "cell_type": "code",
      "execution_count": null,
      "id": "6f9bb239",
      "metadata": {
        "scrolled": true,
        "id": "6f9bb239",
        "outputId": "c80a94b6-c77b-44db-f1f9-b60e0717072a"
      },
      "outputs": [
        {
          "data": {
            "image/png": "[encoded data removed]",
            "text/plain": [
              "<Figure size 576x432 with 1 Axes>"
            ]
          },
          "metadata": {
            "needs_background": "light"
          },
          "output_type": "display_data"
        }
      ],
      "source": [
        "#앞서 진행했던 함수 복사\n",
        "def precision_recall_curve_plot(y_test, pred_proba_c1):\n",
        "    #threshold ndarray와 이 threshold에 따른 정밀도, 재현율 ndarray추출\n",
        "    precisions, recalls, thresholds = precision_recall_curve(y_test, pred_proba_c1)\n",
        "    \n",
        "    #x축을 threshold값으로, y축은 정밀도, 재현율 값으로 각각 Plot수행. 정밀도는 점섬\n",
        "    plt.figure(figsize=(8,6))\n",
        "    threshold_boundary = thresholds.shape[0]\n",
        "    plt.plot(thresholds, precisions[0:threshold_boundary], linestyle='--', label='precision')\n",
        "    plt.plot(thresholds, recalls[0:threshold_boundary], label='recall')\n",
        "    \n",
        "    #threshold값 X축의 Scale을 0.1단위로 변경\n",
        "    start, end = plt.xlim()\n",
        "    plt.xticks(np.round(np.arange(start, end, 0.1),2))\n",
        "    \n",
        "    #x축, y축 label과 legent, 그리고 grid설정\n",
        "    plt.xlabel('Threshold value'); plt.ylabel('Precision and Recall value')\n",
        "    plt.legend(); plt.grid()\n",
        "    plt.show()\n",
        "    \n",
        "pred_proba_c1 = lr_clf.predict_proba(X_test)[:,1]\n",
        "precision_recall_curve_plot(y_test, pred_proba_c1)"
      ]
    },
    {
      "cell_type": "markdown",
      "id": "2a8a8c05",
      "metadata": {
        "id": "2a8a8c05"
      },
      "source": [
        "##### (d) 재현율 곡선을 보면 임곗값을 0.42 정도로 낮추면 정밀도와 재현율이 어느정도 균형을 맞출것 같습니다\n",
        "\n",
        "#### 하지만 두개의 지표 모두 0.7이 안되는 수치!!너무낮아요"
      ]
    },
    {
      "cell_type": "markdown",
      "id": "2be4d911",
      "metadata": {
        "id": "2be4d911"
      },
      "source": [
        "### (E) 임곗값을 조작하기전에 원본데이터 DataFrame의 피처값의 분포도를 살펴보겠습니다"
      ]
    },
    {
      "cell_type": "code",
      "execution_count": null,
      "id": "cc2512fb",
      "metadata": {
        "id": "cc2512fb",
        "outputId": "66da123a-5175-4127-833b-0a51050ea915"
      },
      "outputs": [
        {
          "data": {
            "text/html": [
              "<div>\n",
              "<style scoped>\n",
              "    .dataframe tbody tr th:only-of-type {\n",
              "        vertical-align: middle;\n",
              "    }\n",
              "\n",
              "    .dataframe tbody tr th {\n",
              "        vertical-align: top;\n",
              "    }\n",
              "\n",
              "    .dataframe thead th {\n",
              "        text-align: right;\n",
              "    }\n",
              "</style>\n",
              "<table border=\"1\" class=\"dataframe\">\n",
              "  <thead>\n",
              "    <tr style=\"text-align: right;\">\n",
              "      <th></th>\n",
              "      <th>Pregnancies</th>\n",
              "      <th>Glucose</th>\n",
              "      <th>BloodPressure</th>\n",
              "      <th>SkinThickness</th>\n",
              "      <th>Insulin</th>\n",
              "      <th>BMI</th>\n",
              "      <th>DiabetesPedigreeFunction</th>\n",
              "      <th>Age</th>\n",
              "      <th>Outcome</th>\n",
              "    </tr>\n",
              "  </thead>\n",
              "  <tbody>\n",
              "    <tr>\n",
              "      <th>count</th>\n",
              "      <td>768.000000</td>\n",
              "      <td>768.000000</td>\n",
              "      <td>768.000000</td>\n",
              "      <td>768.000000</td>\n",
              "      <td>768.000000</td>\n",
              "      <td>768.000000</td>\n",
              "      <td>768.000000</td>\n",
              "      <td>768.000000</td>\n",
              "      <td>768.000000</td>\n",
              "    </tr>\n",
              "    <tr>\n",
              "      <th>mean</th>\n",
              "      <td>3.845052</td>\n",
              "      <td>120.894531</td>\n",
              "      <td>69.105469</td>\n",
              "      <td>20.536458</td>\n",
              "      <td>79.799479</td>\n",
              "      <td>31.992578</td>\n",
              "      <td>0.471876</td>\n",
              "      <td>33.240885</td>\n",
              "      <td>0.348958</td>\n",
              "    </tr>\n",
              "    <tr>\n",
              "      <th>std</th>\n",
              "      <td>3.369578</td>\n",
              "      <td>31.972618</td>\n",
              "      <td>19.355807</td>\n",
              "      <td>15.952218</td>\n",
              "      <td>115.244002</td>\n",
              "      <td>7.884160</td>\n",
              "      <td>0.331329</td>\n",
              "      <td>11.760232</td>\n",
              "      <td>0.476951</td>\n",
              "    </tr>\n",
              "    <tr>\n",
              "      <th>min</th>\n",
              "      <td>0.000000</td>\n",
              "      <td>0.000000</td>\n",
              "      <td>0.000000</td>\n",
              "      <td>0.000000</td>\n",
              "      <td>0.000000</td>\n",
              "      <td>0.000000</td>\n",
              "      <td>0.078000</td>\n",
              "      <td>21.000000</td>\n",
              "      <td>0.000000</td>\n",
              "    </tr>\n",
              "    <tr>\n",
              "      <th>25%</th>\n",
              "      <td>1.000000</td>\n",
              "      <td>99.000000</td>\n",
              "      <td>62.000000</td>\n",
              "      <td>0.000000</td>\n",
              "      <td>0.000000</td>\n",
              "      <td>27.300000</td>\n",
              "      <td>0.243750</td>\n",
              "      <td>24.000000</td>\n",
              "      <td>0.000000</td>\n",
              "    </tr>\n",
              "    <tr>\n",
              "      <th>50%</th>\n",
              "      <td>3.000000</td>\n",
              "      <td>117.000000</td>\n",
              "      <td>72.000000</td>\n",
              "      <td>23.000000</td>\n",
              "      <td>30.500000</td>\n",
              "      <td>32.000000</td>\n",
              "      <td>0.372500</td>\n",
              "      <td>29.000000</td>\n",
              "      <td>0.000000</td>\n",
              "    </tr>\n",
              "    <tr>\n",
              "      <th>75%</th>\n",
              "      <td>6.000000</td>\n",
              "      <td>140.250000</td>\n",
              "      <td>80.000000</td>\n",
              "      <td>32.000000</td>\n",
              "      <td>127.250000</td>\n",
              "      <td>36.600000</td>\n",
              "      <td>0.626250</td>\n",
              "      <td>41.000000</td>\n",
              "      <td>1.000000</td>\n",
              "    </tr>\n",
              "    <tr>\n",
              "      <th>max</th>\n",
              "      <td>17.000000</td>\n",
              "      <td>199.000000</td>\n",
              "      <td>122.000000</td>\n",
              "      <td>99.000000</td>\n",
              "      <td>846.000000</td>\n",
              "      <td>67.100000</td>\n",
              "      <td>2.420000</td>\n",
              "      <td>81.000000</td>\n",
              "      <td>1.000000</td>\n",
              "    </tr>\n",
              "  </tbody>\n",
              "</table>\n",
              "</div>"
            ],
            "text/plain": [
              "       Pregnancies     Glucose  BloodPressure  SkinThickness     Insulin  \\\n",
              "count   768.000000  768.000000     768.000000     768.000000  768.000000   \n",
              "mean      3.845052  120.894531      69.105469      20.536458   79.799479   \n",
              "std       3.369578   31.972618      19.355807      15.952218  115.244002   \n",
              "min       0.000000    0.000000       0.000000       0.000000    0.000000   \n",
              "25%       1.000000   99.000000      62.000000       0.000000    0.000000   \n",
              "50%       3.000000  117.000000      72.000000      23.000000   30.500000   \n",
              "75%       6.000000  140.250000      80.000000      32.000000  127.250000   \n",
              "max      17.000000  199.000000     122.000000      99.000000  846.000000   \n",
              "\n",
              "              BMI  DiabetesPedigreeFunction         Age     Outcome  \n",
              "count  768.000000                768.000000  768.000000  768.000000  \n",
              "mean    31.992578                  0.471876   33.240885    0.348958  \n",
              "std      7.884160                  0.331329   11.760232    0.476951  \n",
              "min      0.000000                  0.078000   21.000000    0.000000  \n",
              "25%     27.300000                  0.243750   24.000000    0.000000  \n",
              "50%     32.000000                  0.372500   29.000000    0.000000  \n",
              "75%     36.600000                  0.626250   41.000000    1.000000  \n",
              "max     67.100000                  2.420000   81.000000    1.000000  "
            ]
          },
          "execution_count": 114,
          "metadata": {},
          "output_type": "execute_result"
        }
      ],
      "source": [
        "diabetes_data.describe()"
      ]
    },
    {
      "cell_type": "markdown",
      "id": "074b6246",
      "metadata": {
        "id": "074b6246"
      },
      "source": [
        "##### (e) min()값이 0으로 돼있는 피처가 많음. 예를들어, Glucose피처는 포도당수치인데 min값이0 인건 말이안됨."
      ]
    },
    {
      "cell_type": "markdown",
      "id": "0bb7ee00",
      "metadata": {
        "id": "0bb7ee00"
      },
      "source": [
        "### (F) Glucose피처의 히스토그램으로 0의 분포를 보자"
      ]
    },
    {
      "cell_type": "code",
      "execution_count": null,
      "id": "5d0f8bdc",
      "metadata": {
        "id": "5d0f8bdc",
        "outputId": "7e67499a-91a6-4adb-9c20-a4545384873f"
      },
      "outputs": [
        {
          "data": {
            "text/plain": [
              "(array([  5.,   0.,   4.,  32., 156., 211., 163.,  95.,  56.,  46.]),\n",
              " array([  0. ,  19.9,  39.8,  59.7,  79.6,  99.5, 119.4, 139.3, 159.2,\n",
              "        179.1, 199. ]),\n",
              " <BarContainer object of 10 artists>)"
            ]
          },
          "execution_count": 115,
          "metadata": {},
          "output_type": "execute_result"
        },
        {
          "data": {
            "image/png": "[encoded data removed]",
            "text/plain": [
              "<Figure size 432x288 with 1 Axes>"
            ]
          },
          "metadata": {
            "needs_background": "light"
          },
          "output_type": "display_data"
        }
      ],
      "source": [
        "plt.hist(diabetes_data['Glucose'],bins=10)"
      ]
    },
    {
      "cell_type": "markdown",
      "id": "040007eb",
      "metadata": {
        "id": "040007eb"
      },
      "source": [
        "##### (f) 실제로 Glucose 피쳐의 0값이 존재하는것을 확인할수있다."
      ]
    },
    {
      "cell_type": "markdown",
      "id": "e5fa1030",
      "metadata": {
        "id": "e5fa1030"
      },
      "source": [
        "### (G) min()값이 0으로 돼있는 피처에 대해 0값의 건수 및 전체 데이터건수 대비 몇 퍼센트의 비율 확인해보자\n",
        "\n",
        "확인할 피쳐는 'Glucose', 'BloodPressure', 'SkinThickness', 'Insulin', 'BMI' (단, Pregnancies는 출산횟수이므로 제외)"
      ]
    },
    {
      "cell_type": "code",
      "execution_count": null,
      "id": "da338eed",
      "metadata": {
        "id": "da338eed",
        "outputId": "ab3e349f-3f19-4cbd-e845-0e7af12426d8"
      },
      "outputs": [
        {
          "name": "stdout",
          "output_type": "stream",
          "text": [
            "Glucose 0 건수는 5, 퍼센트는 0.65 %\n",
            "BloodPressure 0 건수는 35, 퍼센트는 4.56 %\n",
            "SkinThickness 0 건수는 227, 퍼센트는 29.56 %\n",
            "Insulin 0 건수는 374, 퍼센트는 48.70 %\n",
            "BMI 0 건수는 11, 퍼센트는 1.43 %\n"
          ]
        }
      ],
      "source": [
        "# 0값을 검사할 피처 리스트\n",
        "zero_features = ['Glucose', 'BloodPressure', 'SkinThickness', 'Insulin', 'BMI' ]\n",
        "\n",
        "# 전체 데이터 건수\n",
        "total_count = diabetes_data['Glucose'].count()\n",
        "#total_count = len(diabetes_data)\n",
        "#print(total_count)\n",
        "\n",
        "#피처별로 반복하면서 데이터 값이 0인 데이터 건수를 추출하고 , 퍼센트 계산\n",
        "for feature in zero_features:\n",
        "    zero_count = diabetes_data[diabetes_data[feature]==0][feature].count()\n",
        "    print('{0} 0 건수는 {1}, 퍼센트는 {2:.2f} %'.format(feature, zero_count, 100*zero_count/total_count))"
      ]
    },
    {
      "cell_type": "markdown",
      "id": "72e2fade",
      "metadata": {
        "id": "72e2fade"
      },
      "source": [
        "##### (g) SkinThickness와 Insulin의 0값은 대단히 많음. 전체데이터건수가 많지않기때문에 이들 데이터를 삭제할경우 효과적학습이 어려움."
      ]
    },
    {
      "cell_type": "markdown",
      "id": "51d1b4b5",
      "metadata": {
        "id": "51d1b4b5"
      },
      "source": [
        "### (H) 0값들을 평균값으로 대체"
      ]
    },
    {
      "cell_type": "code",
      "execution_count": null,
      "id": "4ba36b1f",
      "metadata": {
        "scrolled": true,
        "id": "4ba36b1f",
        "outputId": "eb5e29ec-b959-47ff-e037-721b9c427772"
      },
      "outputs": [
        {
          "name": "stdout",
          "output_type": "stream",
          "text": [
            "Glucose          120.894531\n",
            "BloodPressure     69.105469\n",
            "SkinThickness     20.536458\n",
            "Insulin           79.799479\n",
            "BMI               31.992578\n",
            "dtype: float64\n",
            "<class 'pandas.core.series.Series'>\n",
            "['Glucose', 'BloodPressure', 'SkinThickness', 'Insulin', 'BMI']\n",
            "<class 'list'>\n",
            "     Glucose  BloodPressure  SkinThickness  Insulin   BMI\n",
            "0        148             72             35        0  33.6\n",
            "1         85             66             29        0  26.6\n",
            "2        183             64              0        0  23.3\n",
            "3         89             66             23       94  28.1\n",
            "4        137             40             35      168  43.1\n",
            "..       ...            ...            ...      ...   ...\n",
            "763      101             76             48      180  32.9\n",
            "764      122             70             27        0  36.8\n",
            "765      121             72             23      112  26.2\n",
            "766      126             60              0        0  30.1\n",
            "767       93             70             31        0  30.4\n",
            "\n",
            "[768 rows x 5 columns]\n"
          ]
        }
      ],
      "source": [
        "#zero_features 리스트 내부에 저장된 개별 피처들에 대해서 0값을 평균 값으로 대체\n",
        "mean_zero_features = diabetes_data[zero_features].mean()\n",
        "print(mean_zero_features)\n",
        "print(type(mean_zero_features))\n",
        "print(zero_features)\n",
        "print(type(zero_features))\n",
        "\n",
        "#zero가 있는 피처확인\n",
        "print(diabetes_data[zero_features])\n",
        "\n",
        "#대체\n",
        "diabetes_data[zero_features]=diabetes_data[zero_features].replace(0,mean_zero_features)\n",
        "\n"
      ]
    },
    {
      "cell_type": "markdown",
      "id": "22ce5cbc",
      "metadata": {
        "id": "22ce5cbc"
      },
      "source": [
        "### (I) 피처 스케일링 적용해 변환 (로지스틱회귀의 경우 일반적으로 숫자데이터에 스케일링을 적용)"
      ]
    },
    {
      "cell_type": "code",
      "execution_count": null,
      "id": "99c5a8e6",
      "metadata": {
        "id": "99c5a8e6",
        "outputId": "560998c1-710e-44f8-90d4-7d46f1c94634"
      },
      "outputs": [
        {
          "name": "stdout",
          "output_type": "stream",
          "text": [
            "오차행렬\n",
            "[[90 10]\n",
            " [21 33]]\n",
            "정확도:0.7987, 정밀도:0.7674, 재현율:0.6111, F1:0.6804, AUC:0.8433\n"
          ]
        }
      ],
      "source": [
        "X = diabetes_data.iloc[:,:-1]\n",
        "y = diabetes_data.iloc[:,-1]\n",
        "\n",
        "#StandardScaler 클래스를 이용. 피처데이터세트에 일괄적으로 스케일링 적용\n",
        "scaler = StandardScaler()\n",
        "X_scaled = scaler.fit_transform(X)\n",
        "\n",
        "X_train, X_test, y_train, y_test = train_test_split(X_scaled, y, test_size=0.2, random_state=156, stratify=y)\n",
        "\n",
        "#로지스틱 회귀로 학습, 예측 및 평가 수행\n",
        "lr_clf = LogisticRegression()\n",
        "lr_clf.fit(X_train, y_train)\n",
        "pred = lr_clf.predict(X_test)\n",
        "pred_proba = lr_clf.predict_proba(X_test)[:,1]\n",
        "\n",
        "get_clf_eval(y_test, pred, pred_proba)"
      ]
    },
    {
      "cell_type": "markdown",
      "id": "1ff3f969",
      "metadata": {
        "id": "1ff3f969"
      },
      "source": [
        "##### (i) 데이터 변환과 스케일링을 통해 성능 수치가 일정수준 개선됨.\n",
        "##### 여전히 재현율 수치는 개선이 필요해 보입니다."
      ]
    },
    {
      "cell_type": "markdown",
      "id": "2708520b",
      "metadata": {
        "id": "2708520b"
      },
      "source": [
        "### (J) 분류결정임곗값을 변화시키면서 재현율 값의 성능수치가 어느정도 개선되는지 확인\n",
        "\n",
        "임곗값을 0.3 ~ 0.5까지 0.03씩 변화시키면서 재현율과 다른 평가 지표의 값 변화를 출력.(임곗값에 따른 평가 수치 출력은 앞에서 사용한 get_eval_by_threshold()함수를 이요"
      ]
    },
    {
      "cell_type": "code",
      "execution_count": null,
      "id": "74ceb89c",
      "metadata": {
        "scrolled": true,
        "id": "74ceb89c"
      },
      "outputs": [],
      "source": [
        "#앞서 진행했던 함수 복사 및 모듈 import\n",
        "from sklearn.preprocessing import Binarizer\n",
        "def get_eval_by_threshold(y_test, pred_proba_c1, thresholds):\n",
        "    #thresholds list객체 내의 값을 차례로 iteration하면서 evaluation수행\n",
        "    for custom_threshold in thresholds:\n",
        "        binarizer = Binarizer(threshold=custom_threshold).fit(pred_proba_c1)\n",
        "        custom_predict = binarizer.transform(pred_proba_c1)\n",
        "        print('임곗값:', custom_threshold)\n",
        "        get_clf_eval(y_test , custom_predict, pred_proba_c1)\n",
        "        "
      ]
    },
    {
      "cell_type": "code",
      "execution_count": null,
      "id": "bc9acd41",
      "metadata": {
        "scrolled": true,
        "id": "bc9acd41",
        "outputId": "1073cb1b-d1ed-4031-ab31-a8ce0c4ca08a"
      },
      "outputs": [
        {
          "name": "stdout",
          "output_type": "stream",
          "text": [
            "임곗값: 0.3\n",
            "오차행렬\n",
            "[[67 33]\n",
            " [11 43]]\n",
            "정확도:0.7143, 정밀도:0.5658, 재현율:0.7963, F1:0.6615, AUC:0.8433\n",
            "임곗값: 0.33\n",
            "오차행렬\n",
            "[[72 28]\n",
            " [12 42]]\n",
            "정확도:0.7403, 정밀도:0.6000, 재현율:0.7778, F1:0.6774, AUC:0.8433\n",
            "임곗값: 0.36\n",
            "오차행렬\n",
            "[[76 24]\n",
            " [15 39]]\n",
            "정확도:0.7468, 정밀도:0.6190, 재현율:0.7222, F1:0.6667, AUC:0.8433\n",
            "임곗값: 0.39\n",
            "오차행렬\n",
            "[[78 22]\n",
            " [16 38]]\n",
            "정확도:0.7532, 정밀도:0.6333, 재현율:0.7037, F1:0.6667, AUC:0.8433\n",
            "임곗값: 0.42\n",
            "오차행렬\n",
            "[[84 16]\n",
            " [18 36]]\n",
            "정확도:0.7792, 정밀도:0.6923, 재현율:0.6667, F1:0.6792, AUC:0.8433\n",
            "임곗값: 0.45\n",
            "오차행렬\n",
            "[[85 15]\n",
            " [18 36]]\n",
            "정확도:0.7857, 정밀도:0.7059, 재현율:0.6667, F1:0.6857, AUC:0.8433\n",
            "임곗값: 0.48\n",
            "오차행렬\n",
            "[[88 12]\n",
            " [19 35]]\n",
            "정확도:0.7987, 정밀도:0.7447, 재현율:0.6481, F1:0.6931, AUC:0.8433\n",
            "임곗값: 0.5\n",
            "오차행렬\n",
            "[[90 10]\n",
            " [21 33]]\n",
            "정확도:0.7987, 정밀도:0.7674, 재현율:0.6111, F1:0.6804, AUC:0.8433\n"
          ]
        }
      ],
      "source": [
        "thresholds = [0.3,0.33,0.36,0.39,0.42,0.45,0.48,0.50]\n",
        "pred_proba = lr_clf.predict_proba(X_test)\n",
        "final_result = get_eval_by_threshold(y_test, pred_proba[:,1].reshape(-1,1), thresholds)"
      ]
    },
    {
      "cell_type": "markdown",
      "id": "2af15fc5",
      "metadata": {
        "scrolled": true,
        "id": "2af15fc5"
      },
      "source": [
        "test_df = pd.DataFrame(pred_proba[:,1].reshape(-1,1))\n",
        "np.isnan(test_df).any()"
      ]
    },
    {
      "cell_type": "markdown",
      "id": "84715148",
      "metadata": {
        "id": "84715148"
      },
      "source": [
        "##### (j) 정확도와 정밀도를 희생시키고 재현율을 높이는 임곗값은 0.3입니다(저의 결과는 교재와 다름), 하지만 정밀도가 낮아 극단적선택임.\n",
        "##### 임곗값 0.48이 전체적인 성능평가지표를 유지하면서 재현율을 약간 상승(0.61 -> 0.64)시키는 좋은임곗값으로 보임."
      ]
    },
    {
      "cell_type": "markdown",
      "id": "ff23a738",
      "metadata": {
        "id": "ff23a738"
      },
      "source": [
        "### (K) 임곗값을 기본 0.5가 아닌, 0.48로 낮추어 예측\n",
        "\n",
        "사이킷런의 predict()메서드는 임곗값변환이 안되므로, Binarizer클래스를 이용해 predict_proba()로 추출한 예측결과 확률값을 변환해 변경된 임곘값에 따른 예측 클래스 값을 구해보겠습니다"
      ]
    },
    {
      "cell_type": "code",
      "execution_count": null,
      "id": "aaf771bb",
      "metadata": {
        "id": "aaf771bb",
        "outputId": "dafa3b42-166f-4954-b408-6eede5f6b78f"
      },
      "outputs": [
        {
          "name": "stdout",
          "output_type": "stream",
          "text": [
            "오차행렬\n",
            "[[90 10]\n",
            " [21 33]]\n",
            "정확도:0.7987, 정밀도:0.7674, 재현율:0.6111, F1:0.6804, AUC:0.8433\n"
          ]
        }
      ],
      "source": [
        "#앞서 predict로 예측한 결과 비교위해 복사해옴  --실행안해도됨\n",
        "X = diabetes_data.iloc[:,:-1]\n",
        "y = diabetes_data.iloc[:,-1]\n",
        "\n",
        "\n",
        "#StandardScaler 클래스를 이용. 피처데이터세트에 일괄적으로 스케일링 적용\n",
        "scaler = StandardScaler()\n",
        "X_scaled = scaler.fit_transform(X)\n",
        "\n",
        "X_train, X_test, y_train, y_test = train_test_split(X_scaled, y, test_size=0.2, random_state=156, stratify=y)\n",
        "\n",
        "#로지스틱 회귀로 학습, 예측 및 평가 수행\n",
        "lr_clf = LogisticRegression()\n",
        "lr_clf.fit(X_train, y_train)\n",
        "pred = lr_clf.predict(X_test)\n",
        "pred_proba = lr_clf.predict_proba(X_test)[:,1]\n",
        "\n",
        "get_clf_eval(y_test, pred, pred_proba)"
      ]
    },
    {
      "cell_type": "code",
      "execution_count": null,
      "id": "74e69af0",
      "metadata": {
        "id": "74e69af0",
        "outputId": "796d78b2-f3fb-419c-c14f-aa631a1cc145"
      },
      "outputs": [
        {
          "name": "stdout",
          "output_type": "stream",
          "text": [
            "오차행렬\n",
            "[[88 12]\n",
            " [19 35]]\n",
            "정확도:0.7987, 정밀도:0.7447, 재현율:0.6481, F1:0.6931, AUC:0.8433\n"
          ]
        }
      ],
      "source": [
        "#임곗값을 0.48로 설정한 Binarizer생성\n",
        "binarizer = Binarizer(threshold=0.48)\n",
        "\n",
        "#위에서구한 lr_clf의 predict_proba()예측 확률 array에서 1에 해당하는 칼럼값을 Binarizer변환.\n",
        "pred_th_048 = binarizer.fit_transform(pred_proba[:,1].reshape(-1,1))\n",
        "\n",
        "get_clf_eval(y_test, pred_th_048, pred_proba[:,1])"
      ]
    },
    {
      "cell_type": "markdown",
      "id": "2fbe8d5b",
      "metadata": {
        "id": "2fbe8d5b"
      },
      "source": [
        "##### (k) 예측 확률 임곗값을 0.48로 낮추었더니, 오차행렬에서 positive로예측 건수가 많이졌음을 확인할수있고\n",
        "##### 정확도는 유지, 정밀도는 약간하락, 재현율은 상승, F1스코어 상승, auc동일. 하도록 예측되었습니다"
      ]
    },
    {
      "cell_type": "markdown",
      "id": "7ee41b8e",
      "metadata": {
        "id": "7ee41b8e"
      },
      "source": [
        "## 07. 정리"
      ]
    },
    {
      "cell_type": "markdown",
      "id": "3df2f1e9",
      "metadata": {
        "id": "3df2f1e9"
      },
      "source": [
        "### 분류에 사용되는 정확도, 오차행렬, 정밀도, 재현율, F1스코어, ROC-AUC와 같은 성능평가지표를 살펴봤습니다"
      ]
    },
    {
      "cell_type": "markdown",
      "id": "841b9b7f",
      "metadata": {
        "id": "841b9b7f"
      },
      "source": [
        "### 특히 , 이진분류의 레이블 값이 불균형하게 분포될경우 예측결과와 실제 결과가 일치하는 지표인 정확도만으로는 머신러닝 모델의 예측성능을 평가할수없음(불균형분포 = 0이 매우많고, 1이 매우적을경우 또는 반대의 경우)"
      ]
    },
    {
      "cell_type": "markdown",
      "id": "683df9d3",
      "metadata": {
        "id": "683df9d3"
      },
      "source": [
        "### 오차행렬: Negative와 Positive값을 가지는 실제 클래스 값과 예측 클래스 값이 T와 F에 따라 TN,FP,FN,TP로 매핑되는 4분면 행렬을 기반으로 예측 성능을 평가합니다. \n",
        "### 정확도,정밀도,재현율 수치는 TN,FP,FN,TP값을 결합해 만들어지며, 분류 모델 예측 성능의 오류가 어떠한 모습으로 발생하는지 알수있다."
      ]
    },
    {
      "cell_type": "markdown",
      "id": "077fdcbe",
      "metadata": {
        "id": "077fdcbe"
      },
      "source": [
        "### 정밀도(Precision)와 재현율(Recall)은 Positive데이터 세트의 예측성능에 좀더 초점을 맞춘 평가 지표.\n",
        "### 특히, 재현율이 중요한 지표는 암양성예측모델(암발생positive를 negative로 오판단할경우 큰 영향)\n",
        "### 분류하려는 업무특성상 재현율또는 정밀도가 특별히 강조돼야 할 경우 분류의 결정 임곗값(Threshold)를 조정하여 가능"
      ]
    },
    {
      "cell_type": "markdown",
      "id": "51f47434",
      "metadata": {
        "id": "51f47434"
      },
      "source": [
        "### F1스코어 : 정밀도와 재현율을 결합한 평가 지표. 어느한쪽으로 치우치지않을때 높은 지표값을 가짐."
      ]
    },
    {
      "cell_type": "markdown",
      "id": "dcab7221",
      "metadata": {
        "id": "dcab7221"
      },
      "source": [
        "### ROC-AUC는 일반적으로 이진 분류의 성능 평가를 위해 가장많이 사용되는 지표. AUC는 ROC곡선밑의 면적으로써 1에 가까울수록 좋은 수치."
      ]
    },
    {
      "cell_type": "markdown",
      "id": "cc1649b9",
      "metadata": {
        "id": "cc1649b9"
      },
      "source": [
        "# 끝."
      ]
    }
  ],
  "metadata": {
    "kernelspec": {
      "display_name": "Python 3",
      "language": "python",
      "name": "python3"
    },
    "language_info": {
      "codemirror_mode": {
        "name": "ipython",
        "version": 3
      },
      "file_extension": ".py",
      "mimetype": "text/x-python",
      "name": "python",
      "nbconvert_exporter": "python",
      "pygments_lexer": "ipython3",
      "version": "3.8.8"
    },
    "colab": {
      "name": "3장_평가_김승욱.ipynb",
      "provenance": [],
      "include_colab_link": true
    }
  },
  "nbformat": 4,
  "nbformat_minor": 5
}