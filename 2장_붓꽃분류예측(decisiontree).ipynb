{
 "cells": [
  {
   "cell_type": "markdown",
   "id": "e44501eb",
   "metadata": {},
   "source": [
    "### 붓꽃분류"
   ]
  },
  {
   "cell_type": "code",
   "execution_count": 21,
   "id": "3020db0b",
   "metadata": {},
   "outputs": [
    {
     "name": "stdout",
     "output_type": "stream",
     "text": [
      "<class 'sklearn.utils.Bunch'>\n",
      "dict_keys(['data', 'target', 'frame', 'target_names', 'DESCR', 'feature_names', 'filename'])\n"
     ]
    }
   ],
   "source": [
    "from sklearn.datasets import load_iris #붓꽃품종예측하기위한 예제 데이터셋\n",
    "from sklearn.model_selection import train_test_split #학습 & 테스트 데이터로 분리하기위한 함수 \n",
    "from sklearn.tree import DecisionTreeClassifier #ML알고리즘\n",
    "\n",
    "iris = load_iris() #데이터 불러오기\n",
    "print(type(iris))\n",
    "\n",
    "print(iris.keys()) #파이썬의 딕셔너리와 유사하여, key를 가지고있음.\n",
    "\n",
    "iris_data = iris.data #feature만으로된 데이터(numpy)\n",
    "iris_label = iris.target #레이블데이터(결정값) numpy\n"
   ]
  },
  {
   "cell_type": "code",
   "execution_count": null,
   "id": "43069d24",
   "metadata": {},
   "outputs": [],
   "source": [
    "#데이터확인위해 df로 변환\n",
    "import pandas as pd\n",
    "iris_df = pd.DataFrame(data=iris_data, columns=iris.feature_names)\n",
    "iris_df['label'] = iris_label\n",
    "iris_df.head(3)"
   ]
  },
  {
   "cell_type": "code",
   "execution_count": 16,
   "id": "c4b89a5c",
   "metadata": {},
   "outputs": [],
   "source": [
    "#피처데이터(학습용, 테스트용), 레이블 데이터(학습용 , 테스트용)\n",
    "X_train, X_test, y_train, y_test = train_test_split(iris_data, iris_label, test_size=0.2, random_state=11)"
   ]
  },
  {
   "cell_type": "code",
   "execution_count": 18,
   "id": "cf617418",
   "metadata": {},
   "outputs": [
    {
     "data": {
      "text/plain": [
       "numpy.ndarray"
      ]
     },
     "execution_count": 18,
     "metadata": {},
     "output_type": "execute_result"
    }
   ],
   "source": [
    "type(X_train)"
   ]
  },
  {
   "cell_type": "code",
   "execution_count": 24,
   "id": "4211d5ff",
   "metadata": {},
   "outputs": [
    {
     "data": {
      "text/plain": [
       "DecisionTreeClassifier(random_state=11)"
      ]
     },
     "execution_count": 24,
     "metadata": {},
     "output_type": "execute_result"
    }
   ],
   "source": [
    "#의사결정트리를 이용해 학습과 예측을 수행해보자\n",
    "dt_clf = DecisionTreeClassifier(random_state=11)\n",
    "\n",
    "#학습\n",
    "dt_clf.fit(X_train,y_train)"
   ]
  },
  {
   "cell_type": "code",
   "execution_count": 27,
   "id": "a41283ac",
   "metadata": {},
   "outputs": [],
   "source": [
    "#학습된 DecisionTreeClassifier로 예측수행\n",
    "pred = dt_clf.predict(X_test)"
   ]
  },
  {
   "cell_type": "code",
   "execution_count": 28,
   "id": "c78d3f7e",
   "metadata": {},
   "outputs": [
    {
     "name": "stdout",
     "output_type": "stream",
     "text": [
      "예측 정확도 : 0.9333\n"
     ]
    }
   ],
   "source": [
    "#예측결과를 기반으로 예측성능평가를 해보자\n",
    "#정확도-예측결과가 실제 레이블값과 얼마나 정확한지\n",
    "from sklearn.metrics import accuracy_score\n",
    "print('예측 정확도 : {0:.4f}'.format(accuracy_score(y_test,pred)))"
   ]
  },
  {
   "cell_type": "markdown",
   "id": "ddfad4b7",
   "metadata": {},
   "source": [
    "## 요약. 붓꽃 데이터세트로 분류를 예측한 프로세스"
   ]
  },
  {
   "cell_type": "markdown",
   "id": "69f1bd3f",
   "metadata": {},
   "source": [
    "**1.데이터 세트 분리(학습 & 테스트)**\n",
    "\n",
    "**2.모델 학습(학습데이터로 ML알고리즘 적용하여 모델을 학습시킴)**\n",
    "\n",
    "**3.예측 수행(학습된 ML모델이용하여 데이터분류(붓꽃종류) 예측**\n",
    "\n",
    "**4.평가(예측결괏값과 테스트데이터의 실제결괏값을 비교하여 ML모델성능평가**"
   ]
  },
  {
   "cell_type": "code",
   "execution_count": null,
   "id": "eb5b448e",
   "metadata": {},
   "outputs": [],
   "source": []
  }
 ],
 "metadata": {
  "kernelspec": {
   "display_name": "Python 3",
   "language": "python",
   "name": "python3"
  },
  "language_info": {
   "codemirror_mode": {
    "name": "ipython",
    "version": 3
   },
   "file_extension": ".py",
   "mimetype": "text/x-python",
   "name": "python",
   "nbconvert_exporter": "python",
   "pygments_lexer": "ipython3",
   "version": "3.8.8"
  }
 },
 "nbformat": 4,
 "nbformat_minor": 5
}
